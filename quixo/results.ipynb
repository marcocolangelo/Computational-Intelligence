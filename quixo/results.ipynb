{
 "cells": [
  {
   "cell_type": "code",
   "execution_count": 1,
   "metadata": {},
   "outputs": [],
   "source": [
    "from main import RandomPlayer, MonteCarloPlayer, MonteCarloPNSPlayer\n",
    "from game import Game, Player\n",
    "from tqdm import tqdm\n",
    "import random\n",
    "import numpy as np\n",
    "\n",
    "GAMES = 100\n",
    "DURATIONS = [0.1, 0.5, 1]\n",
    "C = [0.1, 0.5]\n",
    "PN = [0.1, 0.5, 1, 2]"
   ]
  },
  {
   "cell_type": "code",
   "execution_count": 2,
   "metadata": {},
   "outputs": [
    {
     "name": "stdout",
     "output_type": "stream",
     "text": [
      "Test avviato...\n",
      "Durata per turno --> 0.1\n",
      "C param per UCB equation --> 0.1\n"
     ]
    },
    {
     "name": "stderr",
     "output_type": "stream",
     "text": [
      "  0%|          | 0/100 [00:00<?, ?it/s]"
     ]
    },
    {
     "name": "stderr",
     "output_type": "stream",
     "text": [
      "100%|██████████| 100/100 [03:38<00:00,  2.18s/it]\n"
     ]
    },
    {
     "name": "stdout",
     "output_type": "stream",
     "text": [
      "Accuracy:  83.0\n",
      "Test avviato...\n",
      "Durata per turno --> 0.1\n",
      "C param per UCB equation --> 0.5\n"
     ]
    },
    {
     "name": "stderr",
     "output_type": "stream",
     "text": [
      "100%|██████████| 100/100 [03:36<00:00,  2.16s/it]\n"
     ]
    },
    {
     "name": "stdout",
     "output_type": "stream",
     "text": [
      "Accuracy:  73.0\n",
      "Test avviato...\n",
      "Durata per turno --> 0.5\n",
      "C param per UCB equation --> 0.1\n"
     ]
    },
    {
     "name": "stderr",
     "output_type": "stream",
     "text": [
      "100%|██████████| 100/100 [10:34<00:00,  6.34s/it]\n"
     ]
    },
    {
     "name": "stdout",
     "output_type": "stream",
     "text": [
      "Accuracy:  97.0\n",
      "Test avviato...\n",
      "Durata per turno --> 0.5\n",
      "C param per UCB equation --> 0.5\n"
     ]
    },
    {
     "name": "stderr",
     "output_type": "stream",
     "text": [
      "100%|██████████| 100/100 [13:49<00:00,  8.30s/it]\n"
     ]
    },
    {
     "name": "stdout",
     "output_type": "stream",
     "text": [
      "Accuracy:  92.0\n",
      "Test avviato...\n",
      "Durata per turno --> 1\n",
      "C param per UCB equation --> 0.1\n"
     ]
    },
    {
     "name": "stderr",
     "output_type": "stream",
     "text": [
      "100%|██████████| 100/100 [17:46<00:00, 10.66s/it]\n"
     ]
    },
    {
     "name": "stdout",
     "output_type": "stream",
     "text": [
      "Accuracy:  98.0\n",
      "Test avviato...\n",
      "Durata per turno --> 1\n",
      "C param per UCB equation --> 0.5\n"
     ]
    },
    {
     "name": "stderr",
     "output_type": "stream",
     "text": [
      "100%|██████████| 100/100 [22:47<00:00, 13.67s/it]"
     ]
    },
    {
     "name": "stdout",
     "output_type": "stream",
     "text": [
      "Accuracy:  95.0\n"
     ]
    },
    {
     "name": "stderr",
     "output_type": "stream",
     "text": [
      "\n"
     ]
    }
   ],
   "source": [
    "# Questa cella ha come obiettivo quello di verificare il setting migliore \n",
    "# per MCTS contro Random player in modo\n",
    "players = np.empty(2, dtype=Player)\n",
    "for duration in DURATIONS:\n",
    "    for c in C:\n",
    "        print(f'Test avviato...\\nDurata per turno --> {duration}\\nC param per UCB equation --> {c}')\n",
    "        wins = 0\n",
    "        matches = 0 \n",
    "        for _ in tqdm(range(GAMES)):\n",
    "            matches += 1\n",
    "            my_player_id = random.randint(0,1)\n",
    "            g = Game()\n",
    "\n",
    "            # player initialization -> our player is players[my_player_id]\n",
    "            players[my_player_id] = MonteCarloPlayer(player_id=my_player_id, duration=duration, c_param=c)\n",
    "            players[1-my_player_id] = RandomPlayer()\n",
    "            # play the game\n",
    "            winner = g.play(players[0], players[1])\n",
    "            if winner == my_player_id:\n",
    "                wins += 1\n",
    "        acc  = 100*float(wins)/float(matches)\n",
    "        print(\"Accuracy: \", acc)"
   ]
  },
  {
   "cell_type": "code",
   "execution_count": 3,
   "metadata": {},
   "outputs": [
    {
     "name": "stdout",
     "output_type": "stream",
     "text": [
      "Test avviato...\n",
      "Durata per turno --> 0.1\n",
      "C param per UCB equation --> 0.1\n",
      "PN param per PNS-MCTS --> 0.1\n"
     ]
    },
    {
     "name": "stderr",
     "output_type": "stream",
     "text": [
      "100%|██████████| 100/100 [05:46<00:00,  3.47s/it]\n"
     ]
    },
    {
     "name": "stdout",
     "output_type": "stream",
     "text": [
      "Accuracy:  60.0\n",
      "Test avviato...\n",
      "Durata per turno --> 0.1\n",
      "C param per UCB equation --> 0.1\n",
      "PN param per PNS-MCTS --> 0.5\n"
     ]
    },
    {
     "name": "stderr",
     "output_type": "stream",
     "text": [
      "100%|██████████| 100/100 [06:00<00:00,  3.60s/it]\n"
     ]
    },
    {
     "name": "stdout",
     "output_type": "stream",
     "text": [
      "Accuracy:  59.0\n",
      "Test avviato...\n",
      "Durata per turno --> 0.1\n",
      "C param per UCB equation --> 0.1\n",
      "PN param per PNS-MCTS --> 1\n"
     ]
    },
    {
     "name": "stderr",
     "output_type": "stream",
     "text": [
      "100%|██████████| 100/100 [05:54<00:00,  3.55s/it]\n"
     ]
    },
    {
     "name": "stdout",
     "output_type": "stream",
     "text": [
      "Accuracy:  64.0\n",
      "Test avviato...\n",
      "Durata per turno --> 0.1\n",
      "C param per UCB equation --> 0.1\n",
      "PN param per PNS-MCTS --> 2\n"
     ]
    },
    {
     "name": "stderr",
     "output_type": "stream",
     "text": [
      "100%|██████████| 100/100 [05:51<00:00,  3.52s/it]\n"
     ]
    },
    {
     "name": "stdout",
     "output_type": "stream",
     "text": [
      "Accuracy:  52.0\n",
      "Test avviato...\n",
      "Durata per turno --> 0.1\n",
      "C param per UCB equation --> 0.5\n",
      "PN param per PNS-MCTS --> 0.1\n"
     ]
    },
    {
     "name": "stderr",
     "output_type": "stream",
     "text": [
      "100%|██████████| 100/100 [06:08<00:00,  3.69s/it]\n"
     ]
    },
    {
     "name": "stdout",
     "output_type": "stream",
     "text": [
      "Accuracy:  71.0\n",
      "Test avviato...\n",
      "Durata per turno --> 0.1\n",
      "C param per UCB equation --> 0.5\n",
      "PN param per PNS-MCTS --> 0.5\n"
     ]
    },
    {
     "name": "stderr",
     "output_type": "stream",
     "text": [
      "100%|██████████| 100/100 [05:53<00:00,  3.53s/it]\n"
     ]
    },
    {
     "name": "stdout",
     "output_type": "stream",
     "text": [
      "Accuracy:  59.0\n",
      "Test avviato...\n",
      "Durata per turno --> 0.1\n",
      "C param per UCB equation --> 0.5\n",
      "PN param per PNS-MCTS --> 1\n"
     ]
    },
    {
     "name": "stderr",
     "output_type": "stream",
     "text": [
      "100%|██████████| 100/100 [06:15<00:00,  3.76s/it]\n"
     ]
    },
    {
     "name": "stdout",
     "output_type": "stream",
     "text": [
      "Accuracy:  62.0\n",
      "Test avviato...\n",
      "Durata per turno --> 0.1\n",
      "C param per UCB equation --> 0.5\n",
      "PN param per PNS-MCTS --> 2\n"
     ]
    },
    {
     "name": "stderr",
     "output_type": "stream",
     "text": [
      "100%|██████████| 100/100 [05:34<00:00,  3.34s/it]\n"
     ]
    },
    {
     "name": "stdout",
     "output_type": "stream",
     "text": [
      "Accuracy:  67.0\n",
      "Test avviato...\n",
      "Durata per turno --> 0.5\n",
      "C param per UCB equation --> 0.1\n",
      "PN param per PNS-MCTS --> 0.1\n"
     ]
    },
    {
     "name": "stderr",
     "output_type": "stream",
     "text": [
      "100%|██████████| 100/100 [17:04<00:00, 10.25s/it]\n"
     ]
    },
    {
     "name": "stdout",
     "output_type": "stream",
     "text": [
      "Accuracy:  63.0\n",
      "Test avviato...\n",
      "Durata per turno --> 0.5\n",
      "C param per UCB equation --> 0.1\n",
      "PN param per PNS-MCTS --> 0.5\n"
     ]
    },
    {
     "name": "stderr",
     "output_type": "stream",
     "text": [
      "100%|██████████| 100/100 [17:27<00:00, 10.48s/it]\n"
     ]
    },
    {
     "name": "stdout",
     "output_type": "stream",
     "text": [
      "Accuracy:  57.0\n",
      "Test avviato...\n",
      "Durata per turno --> 0.5\n",
      "C param per UCB equation --> 0.1\n",
      "PN param per PNS-MCTS --> 1\n"
     ]
    },
    {
     "name": "stderr",
     "output_type": "stream",
     "text": [
      "100%|██████████| 100/100 [16:58<00:00, 10.19s/it]\n"
     ]
    },
    {
     "name": "stdout",
     "output_type": "stream",
     "text": [
      "Accuracy:  69.0\n",
      "Test avviato...\n",
      "Durata per turno --> 0.5\n",
      "C param per UCB equation --> 0.1\n",
      "PN param per PNS-MCTS --> 2\n"
     ]
    },
    {
     "name": "stderr",
     "output_type": "stream",
     "text": [
      "100%|██████████| 100/100 [16:50<00:00, 10.11s/it]\n"
     ]
    },
    {
     "name": "stdout",
     "output_type": "stream",
     "text": [
      "Accuracy:  55.0\n",
      "Test avviato...\n",
      "Durata per turno --> 0.5\n",
      "C param per UCB equation --> 0.5\n",
      "PN param per PNS-MCTS --> 0.1\n"
     ]
    },
    {
     "name": "stderr",
     "output_type": "stream",
     "text": [
      "100%|██████████| 100/100 [18:21<00:00, 11.02s/it]\n"
     ]
    },
    {
     "name": "stdout",
     "output_type": "stream",
     "text": [
      "Accuracy:  87.0\n",
      "Test avviato...\n",
      "Durata per turno --> 0.5\n",
      "C param per UCB equation --> 0.5\n",
      "PN param per PNS-MCTS --> 0.5\n"
     ]
    },
    {
     "name": "stderr",
     "output_type": "stream",
     "text": [
      "100%|██████████| 100/100 [18:24<00:00, 11.04s/it]\n"
     ]
    },
    {
     "name": "stdout",
     "output_type": "stream",
     "text": [
      "Accuracy:  72.0\n",
      "Test avviato...\n",
      "Durata per turno --> 0.5\n",
      "C param per UCB equation --> 0.5\n",
      "PN param per PNS-MCTS --> 1\n"
     ]
    },
    {
     "name": "stderr",
     "output_type": "stream",
     "text": [
      "100%|██████████| 100/100 [18:17<00:00, 10.98s/it]\n"
     ]
    },
    {
     "name": "stdout",
     "output_type": "stream",
     "text": [
      "Accuracy:  77.0\n",
      "Test avviato...\n",
      "Durata per turno --> 0.5\n",
      "C param per UCB equation --> 0.5\n",
      "PN param per PNS-MCTS --> 2\n"
     ]
    },
    {
     "name": "stderr",
     "output_type": "stream",
     "text": [
      "100%|██████████| 100/100 [17:33<00:00, 10.54s/it]\n"
     ]
    },
    {
     "name": "stdout",
     "output_type": "stream",
     "text": [
      "Accuracy:  81.0\n",
      "Test avviato...\n",
      "Durata per turno --> 1\n",
      "C param per UCB equation --> 0.1\n",
      "PN param per PNS-MCTS --> 0.1\n"
     ]
    },
    {
     "name": "stderr",
     "output_type": "stream",
     "text": [
      "100%|██████████| 100/100 [32:50<00:00, 19.70s/it]\n"
     ]
    },
    {
     "name": "stdout",
     "output_type": "stream",
     "text": [
      "Accuracy:  65.0\n",
      "Test avviato...\n",
      "Durata per turno --> 1\n",
      "C param per UCB equation --> 0.1\n",
      "PN param per PNS-MCTS --> 0.5\n"
     ]
    },
    {
     "name": "stderr",
     "output_type": "stream",
     "text": [
      "100%|██████████| 100/100 [31:05<00:00, 18.65s/it]\n"
     ]
    },
    {
     "name": "stdout",
     "output_type": "stream",
     "text": [
      "Accuracy:  60.0\n",
      "Test avviato...\n",
      "Durata per turno --> 1\n",
      "C param per UCB equation --> 0.1\n",
      "PN param per PNS-MCTS --> 1\n"
     ]
    },
    {
     "name": "stderr",
     "output_type": "stream",
     "text": [
      "100%|██████████| 100/100 [29:37<00:00, 17.77s/it]\n"
     ]
    },
    {
     "name": "stdout",
     "output_type": "stream",
     "text": [
      "Accuracy:  53.0\n",
      "Test avviato...\n",
      "Durata per turno --> 1\n",
      "C param per UCB equation --> 0.1\n",
      "PN param per PNS-MCTS --> 2\n"
     ]
    },
    {
     "name": "stderr",
     "output_type": "stream",
     "text": [
      "100%|██████████| 100/100 [31:47<00:00, 19.08s/it]\n"
     ]
    },
    {
     "name": "stdout",
     "output_type": "stream",
     "text": [
      "Accuracy:  50.0\n",
      "Test avviato...\n",
      "Durata per turno --> 1\n",
      "C param per UCB equation --> 0.5\n",
      "PN param per PNS-MCTS --> 0.1\n"
     ]
    },
    {
     "name": "stderr",
     "output_type": "stream",
     "text": [
      "100%|██████████| 100/100 [33:22<00:00, 20.03s/it]\n"
     ]
    },
    {
     "name": "stdout",
     "output_type": "stream",
     "text": [
      "Accuracy:  70.0\n",
      "Test avviato...\n",
      "Durata per turno --> 1\n",
      "C param per UCB equation --> 0.5\n",
      "PN param per PNS-MCTS --> 0.5\n"
     ]
    },
    {
     "name": "stderr",
     "output_type": "stream",
     "text": [
      "100%|██████████| 100/100 [33:13<00:00, 19.94s/it]\n"
     ]
    },
    {
     "name": "stdout",
     "output_type": "stream",
     "text": [
      "Accuracy:  74.0\n",
      "Test avviato...\n",
      "Durata per turno --> 1\n",
      "C param per UCB equation --> 0.5\n",
      "PN param per PNS-MCTS --> 1\n"
     ]
    },
    {
     "name": "stderr",
     "output_type": "stream",
     "text": [
      "100%|██████████| 100/100 [31:40<00:00, 19.01s/it]\n"
     ]
    },
    {
     "name": "stdout",
     "output_type": "stream",
     "text": [
      "Accuracy:  68.0\n",
      "Test avviato...\n",
      "Durata per turno --> 1\n",
      "C param per UCB equation --> 0.5\n",
      "PN param per PNS-MCTS --> 2\n"
     ]
    },
    {
     "name": "stderr",
     "output_type": "stream",
     "text": [
      "100%|██████████| 100/100 [31:11<00:00, 18.72s/it]"
     ]
    },
    {
     "name": "stdout",
     "output_type": "stream",
     "text": [
      "Accuracy:  75.0\n"
     ]
    },
    {
     "name": "stderr",
     "output_type": "stream",
     "text": [
      "\n"
     ]
    }
   ],
   "source": [
    "# Qui invece verifichiamo le migliorie apportate dalla variante PNS\n",
    "# Facciamo giocare PNS-MCTS contro MCTS standard\n",
    "players = np.empty(2, dtype=Player)\n",
    "for duration in DURATIONS:\n",
    "    for c in C:\n",
    "        for pn in PN:\n",
    "            print(f'Test avviato...\\nDurata per turno --> {duration}\\nC param per UCB equation --> {c}\\nPN param per PNS-MCTS --> {pn}')\n",
    "            wins = 0\n",
    "            matches = 0 \n",
    "            for _ in tqdm(range(GAMES)):\n",
    "                matches += 1\n",
    "                my_player_id = random.randint(0,1)\n",
    "                g = Game()\n",
    "\n",
    "                # player initialization -> our player is players[my_player_id]\n",
    "                players[1-my_player_id] = MonteCarloPlayer(player_id=1-my_player_id,duration=duration, c_param=c)\n",
    "                players[my_player_id] = MonteCarloPNSPlayer(player_id=my_player_id, duration=duration, c_param=c, pn_param=pn)\n",
    "                # play the game\n",
    "                winner = g.play(players[0], players[1])\n",
    "                if winner == my_player_id:\n",
    "                    wins += 1\n",
    "            acc  = 100*float(wins)/float(matches)\n",
    "            print(\"Accuracy: \", acc)"
   ]
  },
  {
   "cell_type": "code",
   "execution_count": 4,
   "metadata": {},
   "outputs": [
    {
     "name": "stdout",
     "output_type": "stream",
     "text": [
      "Test avviato...\n",
      "Durata per turno --> 1\n",
      "C param per UCB equation MCTS--> 0.1\n",
      "C param per UCB equation MCTS--> 0.5\n",
      "PN param per PNS-MCTS --> 2\n"
     ]
    },
    {
     "name": "stderr",
     "output_type": "stream",
     "text": [
      "100%|██████████| 100/100 [47:23<00:00, 28.44s/it]"
     ]
    },
    {
     "name": "stdout",
     "output_type": "stream",
     "text": [
      "Accuracy:  66.0\n"
     ]
    },
    {
     "name": "stderr",
     "output_type": "stream",
     "text": [
      "\n"
     ]
    }
   ],
   "source": [
    "print(f'Test avviato...\\nDurata per turno --> {1}\\nC param per UCB equation MCTS--> {0.1}\\nC param per UCB equation MCTS--> {0.5}\\nPN param per PNS-MCTS --> {2}')\n",
    "wins = 0\n",
    "matches = 0 \n",
    "for _ in tqdm(range(GAMES)):\n",
    "    matches += 1\n",
    "    my_player_id = random.randint(0,1)\n",
    "    g = Game()\n",
    "\n",
    "    # player initialization -> our player is players[my_player_id]\n",
    "    players[1-my_player_id] = MonteCarloPlayer(player_id=1-my_player_id,duration=1, c_param=0.1)\n",
    "    players[my_player_id] = MonteCarloPNSPlayer(player_id=my_player_id, duration=1, c_param=0.5, pn_param=2)\n",
    "    # play the game\n",
    "    winner = g.play(players[0], players[1])\n",
    "    if winner == my_player_id:\n",
    "        wins += 1\n",
    "acc  = 100*float(wins)/float(matches)\n",
    "print(\"Accuracy: \", acc)"
   ]
  },
  {
   "cell_type": "code",
   "execution_count": 5,
   "metadata": {},
   "outputs": [
    {
     "name": "stdout",
     "output_type": "stream",
     "text": [
      "Test avviato...\n",
      "Durata per turno --> 1\n",
      "C param per UCB equation MCTS--> 0.5\n",
      "PN param per PNS-MCTS --> 2\n"
     ]
    },
    {
     "name": "stderr",
     "output_type": "stream",
     "text": [
      "100%|██████████| 100/100 [16:58<00:00, 10.18s/it]"
     ]
    },
    {
     "name": "stdout",
     "output_type": "stream",
     "text": [
      "Accuracy:  100.0\n"
     ]
    },
    {
     "name": "stderr",
     "output_type": "stream",
     "text": [
      "\n"
     ]
    }
   ],
   "source": [
    "print(f'Test avviato...\\nDurata per turno --> {1}\\nC param per UCB equation MCTS--> {0.5}\\nPN param per PNS-MCTS --> {2}')\n",
    "wins = 0\n",
    "matches = 0 \n",
    "for _ in tqdm(range(GAMES)):\n",
    "    matches += 1\n",
    "    my_player_id = random.randint(0,1)\n",
    "    g = Game()\n",
    "\n",
    "    # player initialization -> our player is players[my_player_id]\n",
    "    players[1-my_player_id] = RandomPlayer()\n",
    "    players[my_player_id] = MonteCarloPNSPlayer(player_id=my_player_id, duration=1, c_param=0.5, pn_param=2)\n",
    "    # play the game\n",
    "    winner = g.play(players[0], players[1])\n",
    "    if winner == my_player_id:\n",
    "        wins += 1\n",
    "acc  = 100*float(wins)/float(matches)\n",
    "print(\"Accuracy: \", acc)"
   ]
  }
 ],
 "metadata": {
  "kernelspec": {
   "display_name": "Python 3",
   "language": "python",
   "name": "python3"
  },
  "language_info": {
   "codemirror_mode": {
    "name": "ipython",
    "version": 3
   },
   "file_extension": ".py",
   "mimetype": "text/x-python",
   "name": "python",
   "nbconvert_exporter": "python",
   "pygments_lexer": "ipython3",
   "version": "3.11.0"
  }
 },
 "nbformat": 4,
 "nbformat_minor": 2
}
