{
 "cells": [
  {
   "cell_type": "code",
   "execution_count": 250,
   "metadata": {},
   "outputs": [],
   "source": [
    "from random import random\n",
    "from functools import reduce\n",
    "from collections import namedtuple\n",
    "from queue import PriorityQueue, SimpleQueue, LifoQueue\n",
    "import numpy as np"
   ]
  },
  {
   "cell_type": "code",
   "execution_count": 374,
   "metadata": {},
   "outputs": [],
   "source": [
    "PROBLEM_SIZE = 30\n",
    "NUM_SETS = 50\n",
    "\n",
    "SETS = tuple(np.array([random() < .3 for _ in range(PROBLEM_SIZE)]) for _ in range(NUM_SETS))\n",
    "State = namedtuple('State', ['taken', 'not_taken'])\n"
   ]
  },
  {
   "cell_type": "code",
   "execution_count": 375,
   "metadata": {},
   "outputs": [],
   "source": [
    "def goal_check(state):\n",
    "     #The function checks whether all elements of a set are covered by the selected subsets. \n",
    "     #Uses the reduce function with the np.logical_or operator to combine all the selected subsets into a single Boolean array. \n",
    "     #Then, use the np.all function to check whether all elements of the set are covered. \n",
    "     #If all elements are covered, the function returns True, otherwise it returns False.\n",
    "    return np.all(reduce(np.logical_or, [SETS[i] for i in state.taken], np.array([False for _ in range(PROBLEM_SIZE)])))"
   ]
  },
  {
   "cell_type": "code",
   "execution_count": 376,
   "metadata": {},
   "outputs": [],
   "source": [
    "assert goal_check(State(set(range(NUM_SETS)), set())), \"Probelm not solvable\""
   ]
  },
  {
   "cell_type": "code",
   "execution_count": 389,
   "metadata": {},
   "outputs": [],
   "source": [
    "def g(state):\n",
    "     return len(state.taken)\n",
    "\n",
    "def covered(state):\n",
    "    return reduce(\n",
    "        np.logical_or,  #or function applied\n",
    "        [SETS[i] for i in state.taken],     #between each already taken SETS \n",
    "        np.array([False for _ in range(PROBLEM_SIZE)]), #and a vector full of FALSE\n",
    "    )\n",
    "\n",
    "\n",
    "\n",
    "# my own h function - DENSITY concept has been added\n",
    "def h(state):\n",
    "    already_covered = covered(state)        #boolean vector\n",
    "    if np.all(already_covered):             #if all the elements are equal to True then the problem is already solved\n",
    "        return 0\n",
    "    missing_size = PROBLEM_SIZE - sum(already_covered)  #number of sets not covered yet\n",
    "    \n",
    "    #calculate the density of each set as the number of uncovered elements it can cover divided by its total coverage\n",
    "    densities = [(i, sum(np.logical_and(SETS[i], np.logical_not(already_covered))) / sum(SETS[i])) for i in state.not_taken]\n",
    "    \n",
    "    #order the sets in descending order with respect to the density\n",
    "    candidates = [SETS[i] for i, _ in sorted(densities, key=lambda x: x[1], reverse=True)]\n",
    "    \n",
    "    taken = 1\n",
    "    while sum(sum(candidates[i]) for i in range(taken)) < missing_size:   #take the first \"n_taken\" elements from the candidates vector and verify if the sum of the elements covered by them is sufficient to reach the goal state\n",
    "        taken += 1\n",
    "    return taken\n",
    "\n",
    "\n",
    "\n",
    "\n"
   ]
  },
  {
   "cell_type": "code",
   "execution_count": 378,
   "metadata": {},
   "outputs": [],
   "source": [
    "def a_f(state):\n",
    "    return g(state) + h(state)"
   ]
  },
  {
   "cell_type": "code",
   "execution_count": 379,
   "metadata": {},
   "outputs": [
    {
     "name": "stdout",
     "output_type": "stream",
     "text": [
      "Solved in 320 steps\n",
      "4\n",
      "State(taken={27, 23, 30, 6}, not_taken={0, 1, 2, 3, 4, 5, 7, 8, 9, 10, 11, 12, 13, 14, 15, 16, 17, 18, 19, 20, 21, 22, 24, 25, 26, 28, 29, 31, 32, 33, 34, 35, 36, 37, 38, 39, 40, 41, 42, 43, 44, 45, 46, 47, 48, 49})\n"
     ]
    }
   ],
   "source": [
    "\n",
    "####  My own A* APPROACH  where the h function takes the optimistic info from the DENSITY of each set ####\n",
    "\n",
    "#set DENSITY is computed as the ratio between n_stil_uncovered_elements_coverable_by_the_set / n_total_elements_coverable_by_the_set\n",
    "\n",
    "frontier = PriorityQueue() # we use a PriorityQueue because we want to define a cost funzion a_f = g(state) + h(state)\n",
    "initial_state = State(set(), set(range(NUM_SETS)))\n",
    "frontier.put((a_f(initial_state),initial_state)) #the first state is the one with no taken sets\n",
    "\n",
    "counter = 0 #counter used just to count the number of occurrencies needed to solve the problem\n",
    "_,current_state = frontier.get()  #start the resolution taking the first element from the frontier queue\n",
    "while not goal_check(current_state):    #iterate until the problem is not resolved\n",
    "    counter += 1\n",
    "    for action in current_state[1]: #an ACTION is represented as the activity of taking one set from \n",
    "        # The ^ operator in Python is a bitwise XOR (exclusive OR) operator. It returns True if and only if its arguments differ (one is True, the other is False)\n",
    "        #so here it equals to take an action (set) from not_taken and put it into taken\n",
    "        # new_state = State(current_state.taken | {action}, current_state.not_taken - {action}) -> this would be the same\n",
    "        new_state = State(current_state.taken ^ {action}, current_state.not_taken ^ {action})\n",
    "        a_funct = a_f(new_state)\n",
    "        #it puts all the states generated into the frontier queue\n",
    "        frontier.put((a_funct,new_state))\n",
    "    \n",
    "    #endly it takes one state at time and analyze its condition (if can be considered a goal state in the while above there)\n",
    "    _,current_state = frontier.get()\n",
    "    #print(\"h cost: \" , a_f(current_state) - g(current_state))\n",
    "    \n",
    "print(f\"Solved in {counter:,} steps\")\n",
    "print(a_f(current_state))\n",
    "print(current_state)"
   ]
  },
  {
   "cell_type": "code",
   "execution_count": 380,
   "metadata": {},
   "outputs": [
    {
     "name": "stdout",
     "output_type": "stream",
     "text": [
      "Solved in 567 steps\n",
      "4\n",
      "State(taken={9, 21, 27, 5}, not_taken={0, 1, 2, 3, 4, 6, 7, 8, 10, 11, 12, 13, 14, 15, 16, 17, 18, 19, 20, 22, 23, 24, 25, 26, 28, 29, 30, 31, 32, 33, 34, 35, 36, 37, 38, 39, 40, 41, 42, 43, 44, 45, 46, 47, 48, 49})\n"
     ]
    }
   ],
   "source": [
    "#######  PROFESSOR h3 function comparison ##########\n",
    "\n",
    "def h(state):\n",
    "    already_covered = covered(state)\n",
    "    if np.all(already_covered):\n",
    "        return 0\n",
    "    missing_size = PROBLEM_SIZE - sum(already_covered)\n",
    "    candidates = sorted((sum(np.logical_and(s, np.logical_not(already_covered))) for s in SETS), reverse=True)\n",
    "    taken = 1\n",
    "    while sum(candidates[:taken]) < missing_size:\n",
    "        taken += 1\n",
    "    return taken\n",
    "\n",
    "\n",
    "####  A STAR APPROACH  with ordered version####\n",
    "\n",
    "frontier = PriorityQueue() # we use a PriorityQueue because we want to define a cost funzion a_f = g(state) + h(state)\n",
    "initial_state = State(set(), set(range(NUM_SETS)))\n",
    "frontier.put((a_f(initial_state),initial_state)) #the first state is the one with no taken sets\n",
    "\n",
    "counter = 0 #counter used just to count the number of occurrencies needed to solve the problem\n",
    "_,current_state = frontier.get()  #start the resolution taking the first element from the frontier queue\n",
    "while not goal_check(current_state):    #iterate until the problem is not resolved\n",
    "    counter += 1\n",
    "    for action in current_state[1]: #an ACTION is represented as the activity of taking one set from \n",
    "        # The ^ operator in Python is a bitwise XOR (exclusive OR) operator. It returns True if and only if its arguments differ (one is True, the other is False)\n",
    "        #so here it equals to take an action (set) from not_taken and put it into taken\n",
    "        # new_state = State(current_state.taken | {action}, current_state.not_taken - {action}) -> this would be the same\n",
    "        new_state = State(current_state.taken ^ {action}, current_state.not_taken ^ {action})\n",
    "        a_funct = a_f(new_state)\n",
    "        #it puts all the states generated into the frontier queue\n",
    "        frontier.put((a_funct,new_state))\n",
    "    \n",
    "    #endly it takes one state at time and analyze its condition (if can be considered a goal state in the while above there)\n",
    "    _,current_state = frontier.get()\n",
    "    #print(\"h cost: \" , a_f(current_state) - g(current_state))\n",
    "    \n",
    "print(f\"Solved in {counter:,} steps\")\n",
    "print(a_f(current_state))\n",
    "print(current_state)"
   ]
  },
  {
   "cell_type": "code",
   "execution_count": 386,
   "metadata": {},
   "outputs": [
    {
     "name": "stdout",
     "output_type": "stream",
     "text": [
      "Solved in 158,245 steps\n",
      "4\n"
     ]
    },
    {
     "data": {
      "text/plain": [
       "State(taken={27, 21, 6, 23}, not_taken={0, 1, 2, 3, 4, 5, 7, 8, 9, 10, 11, 12, 13, 14, 15, 16, 17, 18, 19, 20, 22, 24, 25, 26, 28, 29, 30, 31, 32, 33, 34, 35, 36, 37, 38, 39, 40, 41, 42, 43, 44, 45, 46, 47, 48, 49})"
      ]
     },
     "execution_count": 386,
     "metadata": {},
     "output_type": "execute_result"
    }
   ],
   "source": [
    "#BREADHT FIRST\n",
    "\n",
    "\n",
    "frontier = PriorityQueue() # we use a PriorityQueue because we want to define a cost funzion a_f = g(state) + h(state)\n",
    "initial_state = State(set(), set(range(NUM_SETS)))\n",
    "frontier.put((g(initial_state),initial_state)) #the first state is the one with no taken sets\n",
    "\n",
    "counter = 0 #counter used just to count the number of occurrencies needed to solve the problem\n",
    "_,current_state = frontier.get()  #start the resolution taking the first element from the frontier queue\n",
    "while not goal_check(current_state):    #iterate until the problem is not resolved\n",
    "    counter += 1\n",
    "    for action in current_state[1]: #an ACTION is represented as the activity of taking one set from \n",
    "        # The ^ operator in Python is a bitwise XOR (exclusive OR) operator. It returns True if and only if its arguments differ (one is True, the other is False)\n",
    "        #so here it equals to take an action (set) from not_taken and put it into taken\n",
    "        # new_state = State(current_state.taken | {action}, current_state.not_taken - {action}) -> this would be the same\n",
    "        new_state = State(current_state.taken ^ {action}, current_state.not_taken ^ {action})\n",
    "        a_funct = g(new_state)\n",
    "        #it puts all the states generated into the frontier queue\n",
    "        frontier.put((a_funct,new_state))\n",
    "    \n",
    "    #endly it takes one state at time and analyze its condition (if can be considered a goal state in the while above there)\n",
    "    b_value,current_state = frontier.get()\n",
    "    \n",
    "    \n",
    "print(f\"Solved in {counter:,} steps\")\n",
    "print(b_value)\n",
    "current_state"
   ]
  },
  {
   "cell_type": "code",
   "execution_count": 364,
   "metadata": {},
   "outputs": [
    {
     "data": {
      "text/plain": [
       "State(taken={7, 22, 23}, not_taken={0, 1, 2, 3, 4, 5, 6, 8, 9, 10, 11, 12, 13, 14, 15, 16, 17, 18, 19, 20, 21, 24, 25, 26, 27, 28, 29, 30, 31, 32, 33, 34, 35, 36, 37, 38, 39})"
      ]
     },
     "execution_count": 364,
     "metadata": {},
     "output_type": "execute_result"
    }
   ],
   "source": [
    "current_state"
   ]
  },
  {
   "cell_type": "code",
   "execution_count": 381,
   "metadata": {},
   "outputs": [
    {
     "data": {
      "text/plain": [
       "True"
      ]
     },
     "execution_count": 381,
     "metadata": {},
     "output_type": "execute_result"
    }
   ],
   "source": [
    "goal_check(current_state)"
   ]
  },
  {
   "cell_type": "code",
   "execution_count": 388,
   "metadata": {},
   "outputs": [
    {
     "name": "stdout",
     "output_type": "stream",
     "text": [
      "[ True False False  True  True False  True  True False False  True  True\n",
      " False False  True False  True  True  True False  True False False False\n",
      " False False False False False  True]\n",
      "[False  True  True False  True  True  True False  True False False  True\n",
      "  True False False  True False False  True False  True False False False\n",
      " False False False  True  True False]\n",
      "[False False  True False False False False  True False  True False False\n",
      " False False False False False  True False  True False  True  True  True\n",
      " False False  True  True False False]\n",
      "[False  True False  True False False False False False False False False\n",
      " False  True False  True False False False  True False  True False False\n",
      "  True  True  True False False False]\n"
     ]
    },
    {
     "data": {
      "text/plain": [
       "True"
      ]
     },
     "execution_count": 388,
     "metadata": {},
     "output_type": "execute_result"
    }
   ],
   "source": [
    "\n",
    "print(SETS[27])\n",
    "print(SETS[23])\n",
    "print(SETS[30])\n",
    "print(SETS[6])\n",
    "\n",
    "state= State(taken={27, 23, 30, 6}, not_taken={0, 1, 2, 3, 4, 5, 7, 8, 9, 10, 11, 12, 13, 14, 15, 16, 17, 18, 19, 20, 21, 22, 24, 25, 26, 28, 29, 31, 32, 33, 34, 35, 36, 37, 38, 39, 40, 41, 42, 43, 44, 45, 46, 47, 48, 49})\n",
    "goal_check(state)\n",
    "\n"
   ]
  },
  {
   "cell_type": "code",
   "execution_count": null,
   "metadata": {},
   "outputs": [],
   "source": []
  },
  {
   "cell_type": "code",
   "execution_count": null,
   "metadata": {},
   "outputs": [],
   "source": []
  }
 ],
 "metadata": {
  "kernelspec": {
   "display_name": "venv2",
   "language": "python",
   "name": "python3"
  },
  "language_info": {
   "codemirror_mode": {
    "name": "ipython",
    "version": 3
   },
   "file_extension": ".py",
   "mimetype": "text/x-python",
   "name": "python",
   "nbconvert_exporter": "python",
   "pygments_lexer": "ipython3",
   "version": "3.11.0"
  }
 },
 "nbformat": 4,
 "nbformat_minor": 2
}
