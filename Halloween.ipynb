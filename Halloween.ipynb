{
 "cells": [
  {
   "cell_type": "markdown",
   "id": "185f9931-b384-4fdc-a5b2-eea785428bb8",
   "metadata": {},
   "source": [
    "Copyright **`(c)`** 2023 Giovanni Squillero `<giovanni.squillero@polito.it>`  \n",
    "[`https://github.com/squillero/computational-intelligence`](https://github.com/squillero/computational-intelligence)  \n",
    "Free for personal or classroom use; see [`LICENSE.md`](https://github.com/squillero/computational-intelligence/blob/master/LICENSE.md) for details.  "
   ]
  },
  {
   "cell_type": "code",
   "execution_count": 2,
   "id": "3ffe7245-e849-41d0-9698-5f0e0b83fee9",
   "metadata": {},
   "outputs": [],
   "source": [
    "from itertools import product\n",
    "from random import random, randint, shuffle, seed,choice\n",
    "import numpy as np\n",
    "from scipy import sparse\n",
    "from functools import reduce\n",
    "from copy import copy\n"
   ]
  },
  {
   "cell_type": "code",
   "execution_count": 3,
   "id": "6f03bd67-78a0-4d72-95b7-77a918727b91",
   "metadata": {},
   "outputs": [],
   "source": [
    "def make_set_covering_problem(num_points, num_sets, density):\n",
    "    \"\"\"Returns a sparse array where rows are sets and columns are the covered items\"\"\"\n",
    "    seed(num_points*2654435761+num_sets+density)\n",
    "    sets = sparse.lil_array((num_sets, num_points), dtype=bool)\n",
    "    for s, p in product(range(num_sets), range(num_points)):\n",
    "        if random() < density:\n",
    "            sets[s, p] = True\n",
    "    for p in range(num_points):\n",
    "        sets[randint(0, num_sets-1), p] = True\n",
    "    return sets"
   ]
  },
  {
   "cell_type": "markdown",
   "id": "82b0be37-21d9-492d-9a1d-cf0cdf0ddd76",
   "metadata": {},
   "source": [
    "# Halloween Challenge\n",
    "\n",
    "Find the best solution with the fewest calls to the fitness functions for:\n",
    "\n",
    "* `num_points = [100, 1_000, 5_000]`\n",
    "* `num_sets = num_points`\n",
    "* `density = [.3, .7]` "
   ]
  },
  {
   "cell_type": "code",
   "execution_count": 20,
   "id": "221ffdba-5d3d-48cc-bd08-45ccc9366ea6",
   "metadata": {},
   "outputs": [
    {
     "name": "stdout",
     "output_type": "stream",
     "text": [
      "[[ True  True False ... False  True False]\n",
      " [ True False False ...  True False  True]\n",
      " [False False False ... False  True  True]\n",
      " ...\n",
      " [False False  True ... False False  True]\n",
      " [False False False ... False False False]\n",
      " [False False False ...  True False  True]]\n"
     ]
    }
   ],
   "source": [
    "PROBLEM_SIZE = 100  #aka NUM_POINTS because it represents the number of points to fully cover\n",
    "NUM_SETS = 100\n",
    "DENSITY = .3\n",
    "x = make_set_covering_problem(PROBLEM_SIZE, NUM_SETS, DENSITY)\n",
    "SETS = x.toarray()\n",
    "print(SETS)\n"
   ]
  },
  {
   "cell_type": "code",
   "execution_count": 67,
   "id": "9369ad7a",
   "metadata": {},
   "outputs": [],
   "source": [
    "\n",
    "def fitness(state):\n",
    "    cost = sum(state)\n",
    "    valid = np.sum(\n",
    "        reduce(\n",
    "            np.logical_or,\n",
    "            [SETS[i] for i, t in enumerate(state) if t],\n",
    "            np.array([False for _ in range(PROBLEM_SIZE)]),\n",
    "        )\n",
    "    )\n",
    "    return valid, -cost\n",
    "\n"
   ]
  },
  {
   "cell_type": "code",
   "execution_count": 64,
   "id": "90e5609b",
   "metadata": {},
   "outputs": [],
   "source": [
    "def tweak(state):\n",
    "    new_state = copy(state)\n",
    "    index = randint(0, PROBLEM_SIZE - 1)\n",
    "    new_state[index] = not new_state[index]\n",
    "    return new_state"
   ]
  },
  {
   "cell_type": "code",
   "execution_count": 71,
   "id": "53c7f0e0",
   "metadata": {},
   "outputs": [],
   "source": [
    "def simulated_annealing(current_state, fitness, tweak, num_steps=1_000, init_temp=1.0, cool_factor=0.99):\n",
    "    current_fitness = fitness(current_state)\n",
    "    temp = init_temp\n",
    "    counter = 0\n",
    "    for step in range(num_steps):\n",
    "        #print(\"Step \",step)\n",
    "        new_state = tweak(current_state)\n",
    "        new_fitness = fitness(new_state)\n",
    "        \n",
    "        #if the new solution is better, use it as current solution\n",
    "        if new_fitness >= current_fitness:\n",
    "            current_state, current_fitness = new_state, new_fitness\n",
    "            #print(\"Current_fitness: \",new_fitness)\n",
    "            counter+=1\n",
    "        else:\n",
    "            # otherwise, change the current solution with a probability bound to the actual temp but also linked to the new_fitness validity\n",
    "            prob = np.exp((new_fitness[0]*new_fitness[1] - current_fitness[1]) / temp)\n",
    "            if random() < prob:\n",
    "                current_state, current_fitness = new_state, new_fitness\n",
    "                #print(\"Current_fitness but because prob bound to temp: \",new_fitness)\n",
    "\n",
    "        #the system is cooled down with a specific cool_factor\n",
    "        temp *= cool_factor\n",
    "\n",
    "    return current_state,counter\n",
    "\n",
    "\n"
   ]
  },
  {
   "cell_type": "code",
   "execution_count": 72,
   "id": "e6bbc5f1",
   "metadata": {},
   "outputs": [
    {
     "name": "stdout",
     "output_type": "stream",
     "text": [
      "(100, -7) 13\n",
      "(100, -7) 0\n",
      "(100, -7) 0\n",
      "(100, -7) 0\n",
      "(100, -7) 0\n",
      "(100, -7) 0\n"
     ]
    },
    {
     "name": "stderr",
     "output_type": "stream",
     "text": [
      "C:\\Users\\Marco\\AppData\\Local\\Temp\\ipykernel_9252\\978872247.py:17: RuntimeWarning: overflow encountered in divide\n",
      "  prob = np.exp((new_fitness[0]*new_fitness[1] - current_fitness[1]) / temp)\n"
     ]
    },
    {
     "name": "stdout",
     "output_type": "stream",
     "text": [
      "(100, -7) 0\n",
      "(100, -7) 0\n",
      "(100, -7) 0\n",
      "(100, -7) 0\n"
     ]
    }
   ],
   "source": [
    "current_state = [choice([False, False, False, False, False, False]) for _ in range(NUM_SETS)]\n",
    "#Use the simulated_annealing alg.\n",
    "for i in range(10):\n",
    "    current_state,fit_counter = simulated_annealing(current_state, fitness, tweak, num_steps=10000, init_temp=1.0 - i/100, cool_factor=0.99 - i/100)\n",
    "    print(fitness(current_state),fit_counter)\n",
    "    \n",
    "    "
   ]
  }
 ],
 "metadata": {
  "kernelspec": {
   "display_name": "Python 3 (ipykernel)",
   "language": "python",
   "name": "python3"
  },
  "language_info": {
   "codemirror_mode": {
    "name": "ipython",
    "version": 3
   },
   "file_extension": ".py",
   "mimetype": "text/x-python",
   "name": "python",
   "nbconvert_exporter": "python",
   "pygments_lexer": "ipython3",
   "version": "3.11.0"
  }
 },
 "nbformat": 4,
 "nbformat_minor": 5
}
