{
 "cells": [
  {
   "cell_type": "code",
   "execution_count": 4,
   "metadata": {},
   "outputs": [],
   "source": [
    "from main import RandomPlayer, MonteCarloPlayer\n",
    "from game import Game, Player\n",
    "from tqdm import tqdm\n",
    "import random\n",
    "import numpy as np\n",
    "\n",
    "GAMES = 100\n",
    "NS = [100, 125, 150]\n",
    "C = [0.1, 0.5]"
   ]
  },
  {
   "cell_type": "code",
   "execution_count": 5,
   "metadata": {},
   "outputs": [
    {
     "name": "stdout",
     "output_type": "stream",
     "text": [
      "Test avviato...\n",
      "Numero simulazioni per rollout --> 100\n",
      "C param per UCB equation --> 0.1\n"
     ]
    },
    {
     "name": "stderr",
     "output_type": "stream",
     "text": [
      "  0%|          | 0/100 [00:00<?, ?it/s]\n"
     ]
    },
    {
     "ename": "TypeError",
     "evalue": "MonteCarloTreeSearchNode.best_child() got an unexpected keyword argument 'c_param'",
     "output_type": "error",
     "traceback": [
      "\u001b[1;31m---------------------------------------------------------------------------\u001b[0m",
      "\u001b[1;31mTypeError\u001b[0m                                 Traceback (most recent call last)",
      "Cell \u001b[1;32mIn[5], line 16\u001b[0m\n\u001b[0;32m     14\u001b[0m players[\u001b[38;5;241m1\u001b[39m \u001b[38;5;241m-\u001b[39m my_player_id] \u001b[38;5;241m=\u001b[39m RandomPlayer()\n\u001b[0;32m     15\u001b[0m \u001b[38;5;66;03m# play the game\u001b[39;00m\n\u001b[1;32m---> 16\u001b[0m winner \u001b[38;5;241m=\u001b[39m \u001b[43mg\u001b[49m\u001b[38;5;241;43m.\u001b[39;49m\u001b[43mplay\u001b[49m\u001b[43m(\u001b[49m\u001b[43mplayers\u001b[49m\u001b[43m[\u001b[49m\u001b[38;5;241;43m0\u001b[39;49m\u001b[43m]\u001b[49m\u001b[43m,\u001b[49m\u001b[43m \u001b[49m\u001b[43mplayers\u001b[49m\u001b[43m[\u001b[49m\u001b[38;5;241;43m1\u001b[39;49m\u001b[43m]\u001b[49m\u001b[43m)\u001b[49m\n\u001b[0;32m     17\u001b[0m \u001b[38;5;28;01mif\u001b[39;00m winner \u001b[38;5;241m==\u001b[39m my_player_id:\n\u001b[0;32m     18\u001b[0m     wins \u001b[38;5;241m+\u001b[39m\u001b[38;5;241m=\u001b[39m \u001b[38;5;241m1\u001b[39m\n",
      "File \u001b[1;32mc:\\Users\\robit\\Documents\\GitHub\\Computational-Intelligence\\WithMarco2\\quixo\\game.py:100\u001b[0m, in \u001b[0;36mGame.play\u001b[1;34m(self, player1, player2)\u001b[0m\n\u001b[0;32m     98\u001b[0m ok \u001b[38;5;241m=\u001b[39m \u001b[38;5;28;01mFalse\u001b[39;00m\n\u001b[0;32m     99\u001b[0m \u001b[38;5;28;01mwhile\u001b[39;00m \u001b[38;5;129;01mnot\u001b[39;00m ok:\n\u001b[1;32m--> 100\u001b[0m     from_pos, slide \u001b[38;5;241m=\u001b[39m \u001b[43mplayers\u001b[49m\u001b[43m[\u001b[49m\u001b[38;5;28;43mself\u001b[39;49m\u001b[38;5;241;43m.\u001b[39;49m\u001b[43mcurrent_player_idx\u001b[49m\u001b[43m]\u001b[49m\u001b[38;5;241;43m.\u001b[39;49m\u001b[43mmake_move\u001b[49m\u001b[43m(\u001b[49m\n\u001b[0;32m    101\u001b[0m \u001b[43m        \u001b[49m\u001b[38;5;28;43mself\u001b[39;49m\u001b[43m)\u001b[49m\n\u001b[0;32m    102\u001b[0m     ok \u001b[38;5;241m=\u001b[39m \u001b[38;5;28mself\u001b[39m\u001b[38;5;241m.\u001b[39m__move(from_pos, slide, \u001b[38;5;28mself\u001b[39m\u001b[38;5;241m.\u001b[39mcurrent_player_idx)\n\u001b[0;32m    103\u001b[0m winner \u001b[38;5;241m=\u001b[39m \u001b[38;5;28mself\u001b[39m\u001b[38;5;241m.\u001b[39mcheck_winner()\n",
      "File \u001b[1;32mc:\\Users\\robit\\Documents\\GitHub\\Computational-Intelligence\\WithMarco2\\quixo\\main.py:33\u001b[0m, in \u001b[0;36mMonteCarloPlayer.make_move\u001b[1;34m(self, game)\u001b[0m\n\u001b[0;32m     30\u001b[0m \u001b[38;5;28;01mdef\u001b[39;00m \u001b[38;5;21mmake_move\u001b[39m(\u001b[38;5;28mself\u001b[39m, game: \u001b[38;5;124m'\u001b[39m\u001b[38;5;124mGame\u001b[39m\u001b[38;5;124m'\u001b[39m) \u001b[38;5;241m-\u001b[39m\u001b[38;5;241m>\u001b[39m \u001b[38;5;28mtuple\u001b[39m[\u001b[38;5;28mtuple\u001b[39m[\u001b[38;5;28mint\u001b[39m, \u001b[38;5;28mint\u001b[39m], Move]:\n\u001b[0;32m     31\u001b[0m     \u001b[38;5;66;03m#print(f\"make_move -> my player id: {self.player_id}\")\u001b[39;00m\n\u001b[0;32m     32\u001b[0m     root \u001b[38;5;241m=\u001b[39m MonteCarloTreeSearchNode(Board(game\u001b[38;5;241m.\u001b[39mget_board()), player_id\u001b[38;5;241m=\u001b[39m\u001b[38;5;28mself\u001b[39m\u001b[38;5;241m.\u001b[39mplayer_id, d\u001b[38;5;241m=\u001b[39m\u001b[38;5;241m0\u001b[39m, root_player\u001b[38;5;241m=\u001b[39m\u001b[38;5;28mself\u001b[39m\u001b[38;5;241m.\u001b[39mplayer_id,\u001b[38;5;28mid\u001b[39m\u001b[38;5;241m=\u001b[39m\u001b[38;5;241m0\u001b[39m,num_simulations\u001b[38;5;241m=\u001b[39m\u001b[38;5;28mself\u001b[39m\u001b[38;5;241m.\u001b[39mnum_simulations, c_param\u001b[38;5;241m=\u001b[39m\u001b[38;5;28mself\u001b[39m\u001b[38;5;241m.\u001b[39mc_param)\n\u001b[1;32m---> 33\u001b[0m     selected_node \u001b[38;5;241m=\u001b[39m \u001b[43mroot\u001b[49m\u001b[38;5;241;43m.\u001b[39;49m\u001b[43mbest_action\u001b[49m\u001b[43m(\u001b[49m\u001b[43m)\u001b[49m\n\u001b[0;32m     34\u001b[0m     from_pos, move \u001b[38;5;241m=\u001b[39m selected_node\u001b[38;5;241m.\u001b[39mget_action()\n\u001b[0;32m     35\u001b[0m     \u001b[38;5;66;03m#print('In make_move del nostro player -> Il nodo selezionato è il seguente: ', selected_node)\u001b[39;00m\n\u001b[0;32m     36\u001b[0m     \u001b[38;5;66;03m#print(f\"In make_move del nostro player -> from_pos (col,row): {from_pos}, move: {move}\")\u001b[39;00m\n",
      "File \u001b[1;32mc:\\Users\\robit\\Documents\\GitHub\\Computational-Intelligence\\WithMarco2\\quixo\\tree.py:141\u001b[0m, in \u001b[0;36mMonteCarloTreeSearchNode.best_action\u001b[1;34m(self)\u001b[0m\n\u001b[0;32m    137\u001b[0m     v\u001b[38;5;241m.\u001b[39mbackpropagate(reward)\n\u001b[0;32m    139\u001b[0m \u001b[38;5;66;03m# non mi convince la scelta di mettere c_param = 0 quindi l'ho reso un iperparametro e provato a metterlo a 0.1\u001b[39;00m\n\u001b[0;32m    140\u001b[0m \u001b[38;5;66;03m# valutiamo la scelta di farlo variare nel tempo per favorire più l'exploration all'inizio e più la exploitation alla fine\u001b[39;00m\n\u001b[1;32m--> 141\u001b[0m \u001b[38;5;28;01mreturn\u001b[39;00m \u001b[38;5;28;43mself\u001b[39;49m\u001b[38;5;241;43m.\u001b[39;49m\u001b[43mbest_child\u001b[49m\u001b[43m(\u001b[49m\u001b[43mc_param\u001b[49m\u001b[43m \u001b[49m\u001b[38;5;241;43m=\u001b[39;49m\u001b[43m \u001b[49m\u001b[38;5;28;43mself\u001b[39;49m\u001b[38;5;241;43m.\u001b[39;49m\u001b[43mc_param\u001b[49m\u001b[43m)\u001b[49m\n",
      "\u001b[1;31mTypeError\u001b[0m: MonteCarloTreeSearchNode.best_child() got an unexpected keyword argument 'c_param'"
     ]
    }
   ],
   "source": [
    "players = np.empty(2, dtype=Player)\n",
    "for ns in NS:\n",
    "    for c in C:\n",
    "        print(f'Test avviato...\\nNumero simulazioni per rollout --> {ns}\\nC param per UCB equation --> {c}')\n",
    "        wins = 0\n",
    "        matches = 0 \n",
    "        for _ in tqdm(range(GAMES)):\n",
    "            matches += 1\n",
    "            my_player_id = random.randint(0,1)\n",
    "            g = Game()\n",
    "\n",
    "            # player initialization -> our player is players[my_player_id]\n",
    "            players[my_player_id] = MonteCarloPlayer(player_id=my_player_id,num_simulations=ns, c_param=c)\n",
    "            players[1 - my_player_id] = RandomPlayer()\n",
    "            # play the game\n",
    "            winner = g.play(players[0], players[1])\n",
    "            if winner == my_player_id:\n",
    "                wins += 1\n",
    "        acc  = 100*float(wins)/float(matches)\n",
    "        print(\"Accuracy: \", acc)"
   ]
  }
 ],
 "metadata": {
  "kernelspec": {
   "display_name": "Python 3",
   "language": "python",
   "name": "python3"
  },
  "language_info": {
   "codemirror_mode": {
    "name": "ipython",
    "version": 3
   },
   "file_extension": ".py",
   "mimetype": "text/x-python",
   "name": "python",
   "nbconvert_exporter": "python",
   "pygments_lexer": "ipython3",
   "version": "3.11.0"
  }
 },
 "nbformat": 4,
 "nbformat_minor": 2
}
