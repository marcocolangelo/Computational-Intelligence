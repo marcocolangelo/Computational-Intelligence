{
 "cells": [
  {
   "cell_type": "code",
   "execution_count": 2,
   "metadata": {},
   "outputs": [],
   "source": [
    "from random import random,choice,randint\n",
    "from functools import reduce\n",
    "from collections import namedtuple\n",
    "from queue import PriorityQueue, SimpleQueue, LifoQueue\n",
    "from copy import copy\n",
    "\n",
    "import numpy as np"
   ]
  },
  {
   "cell_type": "code",
   "execution_count": 20,
   "metadata": {},
   "outputs": [],
   "source": [
    "PROBLEM_SIZE = 100\n",
    "NUM_SETS = 300\n",
    "\n",
    "#returns a random number between 0 and 1. If the number is less than 0.3, the corresponding element in the array will be True, otherwise it will be False. \n",
    "# This code could be used to generate a data set for the set covering problem or a similar problem.\n",
    "SETS = tuple(np.array([random() < .3 for _ in range(PROBLEM_SIZE)]) for _ in range(NUM_SETS))\n",
    "State = namedtuple('State', ['taken', 'not_taken'])\n"
   ]
  },
  {
   "cell_type": "code",
   "execution_count": 21,
   "metadata": {},
   "outputs": [],
   "source": [
    "def goal_check(state):\n",
    "     #The function checks whether all elements of a set are covered by the selected subsets. \n",
    "     #Uses the reduce function with the np.logical_or operator to combine all the selected subsets into a single Boolean array. \n",
    "     #Then, use the np.all function to check whether all elements of the set are covered. \n",
    "     #If all elements are covered, the function returns True, otherwise it returns False.\n",
    "    return np.all(reduce(np.logical_or, [SETS[i] for i in state.taken], np.array([False for _ in range(PROBLEM_SIZE)])))"
   ]
  },
  {
   "cell_type": "code",
   "execution_count": 22,
   "metadata": {},
   "outputs": [],
   "source": [
    "assert goal_check(State(set(range(NUM_SETS)), set())), \"Probelm not solvable\""
   ]
  },
  {
   "cell_type": "code",
   "execution_count": 29,
   "metadata": {},
   "outputs": [],
   "source": [
    "def evaluate(state):\n",
    "    cost = sum(state)\n",
    "    valid =  np.all(reduce(    #check if the actual solution is covering the sets\n",
    "        np.logical_or,\n",
    "        [SETS[i] for i, t in enumerate(state) if t],\n",
    "        np.array([False for _ in range(PROBLEM_SIZE)]),\n",
    "    )), -sum(state) #negative because our goal is to minimize the number of sets\n",
    "    return (valid, cost)"
   ]
  },
  {
   "cell_type": "code",
   "execution_count": 30,
   "metadata": {},
   "outputs": [],
   "source": [
    "#It randomly changes one value at time (so changing one set from taken to not taken or viceversa)\n",
    "def tweak(state):\n",
    "    new_state = copy(state)\n",
    "    index = randint(0,PROBLEM_SIZE-1) #random index\n",
    "    new_state[index] = not new_state[index] #I simply swap a random value of the state\n",
    "    return new_state"
   ]
  },
  {
   "cell_type": "code",
   "execution_count": 31,
   "metadata": {},
   "outputs": [
    {
     "data": {
      "text/plain": [
       "((True, -51), 51)"
      ]
     },
     "execution_count": 31,
     "metadata": {},
     "output_type": "execute_result"
    }
   ],
   "source": [
    "#initialization\n",
    "current_state = [choice([True,False ]) for _ in range(PROBLEM_SIZE)]\n",
    "evaluate(current_state)"
   ]
  },
  {
   "cell_type": "code",
   "execution_count": 26,
   "metadata": {},
   "outputs": [
    {
     "name": "stdout",
     "output_type": "stream",
     "text": [
      "[True, False, True, False, False, True, False, True, True, False, False, False, True, False, True, False, True, True, False, True, True, False, False, False, False, False, False, False, True, True, True, False, True, True, True, True, True, False, False, True, False, False, True, True, True, False, False, False, False, False, False, False, False, True, False, True, True, True, False, True, True, False, True, False, False, False, False, False, False, False, True, False, True, False, True, True, True, True, True, False, False, True, True, True, True, True, True, True, True, True, False, True, True, False, True, True, True, True, True, True]\n",
      "[True, False, True, False, False, True, False, True, True, False, False, False, True, False, True, False, True, True, False, True, True, False, False, True, False, False, False, False, True, True, True, False, True, True, True, True, True, False, False, True, False, False, True, True, True, False, False, False, False, False, False, False, False, True, False, True, True, True, False, True, True, False, True, False, False, False, False, False, False, False, True, False, True, False, True, True, True, True, True, False, False, True, True, True, True, True, True, True, True, True, False, True, True, False, True, True, True, True, True, True]\n",
      "[True, False, True, False, False, True, False, True, True, False, False, False, True, False, True, False, True, True, False, True, True, False, False, False, False, False, False, False, True, True, True, False, True, True, True, True, True, False, False, True, False, False, True, True, True, False, False, False, False, False, False, False, False, True, False, True, True, True, False, True, False, False, True, False, False, False, False, False, False, False, True, False, True, False, True, True, True, True, True, False, False, True, True, True, True, True, True, True, True, True, False, True, True, False, True, True, True, True, True, True] ((True, -53), 53)\n",
      "[True, False, True, False, False, True, False, True, True, False, False, False, True, False, True, False, True, True, False, True, True, False, False, False, False, False, False, False, True, True, True, False, False, True, True, True, True, False, False, True, False, False, True, True, True, False, False, False, False, False, False, False, False, True, False, True, True, True, False, True, False, False, True, False, False, False, False, False, False, False, True, False, True, False, True, True, True, True, True, False, False, True, True, True, True, True, True, True, True, True, False, True, True, False, True, True, True, True, True, True] ((True, -52), 52)\n",
      "[True, False, True, False, False, True, False, True, True, False, False, False, True, False, True, False, True, True, False, True, True, False, False, False, False, False, False, False, True, True, True, False, False, True, True, True, True, False, False, True, False, False, True, True, True, False, False, False, False, False, False, False, False, True, False, False, True, True, False, True, False, False, True, False, False, False, False, False, False, False, True, False, True, False, True, True, True, True, True, False, False, True, True, True, True, True, True, True, True, True, False, True, True, False, True, True, True, True, True, True] ((True, -51), 51)\n",
      "[True, False, True, False, False, True, False, True, True, False, False, False, True, False, True, False, True, True, False, True, True, False, False, False, False, False, False, False, True, True, True, False, False, True, True, False, True, False, False, True, False, False, True, True, True, False, False, False, False, False, False, False, False, True, False, False, True, True, False, True, False, False, True, False, False, False, False, False, False, False, True, False, True, False, True, True, True, True, True, False, False, True, True, True, True, True, True, True, True, True, False, True, True, False, True, True, True, True, True, True] ((True, -50), 50)\n",
      "[True, False, True, False, False, True, False, True, True, False, False, False, False, False, True, False, True, True, False, True, True, False, False, False, False, False, False, False, True, True, True, False, False, True, True, False, True, False, False, True, False, False, True, True, True, False, False, False, False, False, False, False, False, True, False, False, True, True, False, True, False, False, True, False, False, False, False, False, False, False, True, False, True, False, True, True, True, True, True, False, False, True, True, True, True, True, True, True, True, True, False, True, True, False, True, True, True, True, True, True] ((True, -49), 49)\n",
      "[True, False, True, False, False, True, False, True, True, False, False, False, False, False, False, False, True, True, False, True, True, False, False, False, False, False, False, False, True, True, True, False, False, True, True, False, True, False, False, True, False, False, True, True, True, False, False, False, False, False, False, False, False, True, False, False, True, True, False, True, False, False, True, False, False, False, False, False, False, False, True, False, True, False, True, True, True, True, True, False, False, True, True, True, True, True, True, True, True, True, False, True, True, False, True, True, True, True, True, True] ((True, -48), 48)\n",
      "[True, False, False, False, False, True, False, True, True, False, False, False, False, False, False, False, True, True, False, True, True, False, False, False, False, False, False, False, True, True, True, False, False, True, True, False, True, False, False, True, False, False, True, True, True, False, False, False, False, False, False, False, False, True, False, False, True, True, False, True, False, False, True, False, False, False, False, False, False, False, True, False, True, False, True, True, True, True, True, False, False, True, True, True, True, True, True, True, True, True, False, True, True, False, True, True, True, True, True, True] ((True, -47), 47)\n",
      "[True, False, False, False, False, True, False, True, True, False, False, False, False, False, False, False, True, True, False, True, True, False, False, False, False, False, False, False, True, True, True, False, False, True, True, False, True, False, False, True, False, False, True, True, True, False, False, False, False, False, False, False, False, True, False, False, True, True, False, True, False, False, True, False, False, False, False, False, False, False, True, False, True, False, True, True, True, True, True, False, False, True, True, True, True, True, False, True, True, True, False, True, True, False, True, True, True, True, True, True] ((True, -46), 46)\n",
      "[True, False, False, False, False, False, False, True, True, False, False, False, False, False, False, False, True, True, False, True, True, False, False, False, False, False, False, False, True, True, True, False, False, True, True, False, True, False, False, True, False, False, True, True, True, False, False, False, False, False, False, False, False, True, False, False, True, True, False, True, False, False, True, False, False, False, False, False, False, False, True, False, True, False, True, True, True, True, True, False, False, True, True, True, True, True, False, True, True, True, False, True, True, False, True, True, True, True, True, True] ((True, -45), 45)\n",
      "[True, False, False, False, False, False, False, True, True, False, False, False, False, False, False, False, True, True, False, True, True, False, False, False, False, False, False, False, True, True, True, False, False, True, True, False, True, False, False, True, False, False, True, True, True, False, False, False, False, False, False, False, False, True, False, False, True, True, False, True, False, False, True, False, False, False, False, False, False, False, True, False, True, False, True, True, True, True, True, False, False, True, True, True, True, True, False, True, True, True, False, True, False, False, True, True, True, True, True, True] ((True, -44), 44)\n",
      "[True, False, False, False, False, False, False, True, True, False, False, False, False, False, False, False, True, True, False, True, True, False, False, False, False, False, False, False, True, True, True, False, False, True, True, False, True, False, False, True, False, False, True, True, True, False, False, False, False, False, False, False, False, True, False, False, True, True, False, True, False, False, True, False, False, False, False, False, False, False, False, False, True, False, True, True, True, True, True, False, False, True, True, True, True, True, False, True, True, True, False, True, False, False, True, True, True, True, True, True] ((True, -43), 43)\n",
      "[True, False, False, False, False, False, False, True, True, False, False, False, False, False, False, False, True, True, False, True, True, False, False, False, False, False, False, False, True, True, True, False, False, True, True, False, True, False, False, True, False, False, True, True, True, False, False, False, False, False, False, False, False, True, False, False, False, True, False, True, False, False, True, False, False, False, False, False, False, False, False, False, True, False, True, True, True, True, True, False, False, True, True, True, True, True, False, True, True, True, False, True, False, False, True, True, True, True, True, True] ((True, -42), 42)\n",
      "[True, False, False, False, False, False, False, True, True, False, False, False, False, False, False, False, True, True, False, True, True, False, False, False, False, False, False, False, True, True, True, False, False, True, True, False, True, False, False, True, False, False, True, True, True, False, False, False, False, False, False, False, False, True, False, False, False, True, False, True, False, False, True, False, False, False, False, False, False, False, False, False, True, False, True, True, True, True, True, False, False, True, True, True, True, True, False, True, True, False, False, True, False, False, True, True, True, True, True, True] ((True, -41), 41)\n",
      "[True, False, False, False, False, False, False, True, True, False, False, False, False, False, False, False, True, True, False, True, True, False, False, False, False, False, False, False, False, True, True, False, False, True, True, False, True, False, False, True, False, False, True, True, True, False, False, False, False, False, False, False, False, True, False, False, False, True, False, True, False, False, True, False, False, False, False, False, False, False, False, False, True, False, True, True, True, True, True, False, False, True, True, True, True, True, False, True, True, False, False, True, False, False, True, True, True, True, True, True] ((True, -40), 40)\n",
      "[True, False, False, False, False, False, False, True, True, False, False, False, False, False, False, False, True, True, False, True, True, False, False, False, False, False, False, False, False, True, True, False, False, True, True, False, True, False, False, True, False, False, True, True, True, False, False, False, False, False, False, False, False, False, False, False, False, True, False, True, False, False, True, False, False, False, False, False, False, False, False, False, True, False, True, True, True, True, True, False, False, True, True, True, True, True, False, True, True, False, False, True, False, False, True, True, True, True, True, True] ((True, -39), 39)\n",
      "[True, False, False, False, False, False, False, True, True, False, False, False, False, False, False, False, True, True, False, True, True, False, False, False, False, False, False, False, False, True, True, False, False, True, True, False, True, False, False, True, False, False, True, True, True, False, False, False, False, False, False, False, False, False, False, False, False, True, False, True, False, False, True, False, False, False, False, False, False, False, False, False, True, False, True, True, True, True, True, False, False, True, True, True, True, True, False, True, True, False, False, True, False, False, True, True, False, True, True, True] ((True, -38), 38)\n",
      "[True, False, False, False, False, False, False, True, True, False, False, False, False, False, False, False, True, True, False, True, True, False, False, False, False, False, False, False, False, True, True, False, False, True, True, False, True, False, False, True, False, False, True, True, True, False, False, False, False, False, False, False, False, False, False, False, False, True, False, True, False, False, True, False, False, False, False, False, False, False, False, False, True, False, True, True, True, True, True, False, False, True, True, True, True, False, False, True, True, False, False, True, False, False, True, True, False, True, True, True] ((True, -37), 37)\n",
      "[True, False, False, False, False, False, False, True, True, False, False, False, False, False, False, False, True, True, False, True, True, False, False, False, False, False, False, False, False, True, True, False, False, True, True, False, True, False, False, True, False, False, True, True, True, False, False, False, False, False, False, False, False, False, False, False, False, True, False, True, False, False, True, False, False, False, False, False, False, False, False, False, True, False, True, True, True, False, True, False, False, True, True, True, True, False, False, True, True, False, False, True, False, False, True, True, False, True, True, True] ((True, -36), 36)\n",
      "[True, False, False, False, False, False, False, True, True, False, False, False, False, False, False, False, True, True, False, True, True, False, False, False, False, False, False, False, False, True, False, False, False, True, True, False, True, False, False, True, False, False, True, True, True, False, False, False, False, False, False, False, False, False, False, False, False, True, False, True, False, False, True, False, False, False, False, False, False, False, False, False, True, False, True, True, True, False, True, False, False, True, True, True, True, False, False, True, True, False, False, True, False, False, True, True, False, True, True, True] ((True, -35), 35)\n",
      "[True, False, False, False, False, False, False, True, True, False, False, False, False, False, False, False, True, True, False, True, False, False, False, False, False, False, False, False, False, True, False, False, False, True, True, False, True, False, False, True, False, False, True, True, True, False, False, False, False, False, False, False, False, False, False, False, False, True, False, True, False, False, True, False, False, False, False, False, False, False, False, False, True, False, True, True, True, False, True, False, False, True, True, True, True, False, False, True, True, False, False, True, False, False, True, True, False, True, True, True] ((True, -34), 34)\n",
      "[True, False, False, False, False, False, False, True, True, False, False, False, False, False, False, False, True, True, False, True, False, False, False, False, False, False, False, False, False, True, False, False, False, True, True, False, True, False, False, True, False, False, True, True, False, False, False, False, False, False, False, False, False, False, False, False, False, True, False, True, False, False, True, False, False, False, False, False, False, False, False, False, True, False, True, True, True, False, True, False, False, True, True, True, True, False, False, True, True, False, False, True, False, False, True, True, False, True, True, True] ((True, -33), 33)\n",
      "[True, False, False, False, False, False, False, True, True, False, False, False, False, False, False, False, True, True, False, True, False, False, False, False, False, False, False, False, False, True, False, False, False, True, True, False, True, False, False, True, False, False, True, True, False, False, False, False, False, False, False, False, False, False, False, False, False, True, False, True, False, False, True, False, False, False, False, False, False, False, False, False, True, False, True, True, True, False, True, False, False, True, True, False, True, False, False, True, True, False, False, True, False, False, True, True, False, True, True, True] ((True, -32), 32)\n",
      "[True, False, False, False, False, False, False, False, True, False, False, False, False, False, False, False, True, True, False, True, False, False, False, False, False, False, False, False, False, True, False, False, False, True, True, False, True, False, False, True, False, False, True, True, False, False, False, False, False, False, False, False, False, False, False, False, False, True, False, True, False, False, True, False, False, False, False, False, False, False, False, False, True, False, True, True, True, False, True, False, False, True, True, False, True, False, False, True, True, False, False, True, False, False, True, True, False, True, True, True] ((True, -31), 31)\n",
      "[True, False, False, False, False, False, False, False, True, False, False, False, False, False, False, False, True, True, False, True, False, False, False, False, False, False, False, False, False, True, False, False, False, True, True, False, True, False, False, True, False, False, True, True, False, False, False, False, False, False, False, False, False, False, False, False, False, True, False, True, False, False, False, False, False, False, False, False, False, False, False, False, True, False, True, True, True, False, True, False, False, True, True, False, True, False, False, True, True, False, False, True, False, False, True, True, False, True, True, True] ((True, -30), 30)\n",
      "[True, False, False, False, False, False, False, False, True, False, False, False, False, False, False, False, False, True, False, True, False, False, False, False, False, False, False, False, False, True, False, False, False, True, True, False, True, False, False, True, False, False, True, True, False, False, False, False, False, False, False, False, False, False, False, False, False, True, False, True, False, False, False, False, False, False, False, False, False, False, False, False, True, False, True, True, True, False, True, False, False, True, True, False, True, False, False, True, True, False, False, True, False, False, True, True, False, True, True, True] ((True, -29), 29)\n",
      "[True, False, False, False, False, False, False, False, True, False, False, False, False, False, False, False, False, True, False, True, False, False, False, False, False, False, False, False, False, True, False, False, False, True, True, False, True, False, False, True, False, False, True, True, False, False, False, False, False, False, False, False, False, False, False, False, False, True, False, True, False, False, False, False, False, False, False, False, False, False, False, False, True, False, True, True, True, False, True, False, False, True, True, False, False, False, False, True, True, False, False, True, False, False, True, True, False, True, True, True] ((True, -28), 28)\n",
      "[True, False, False, False, False, False, False, False, True, False, False, False, False, False, False, False, False, True, False, True, False, False, False, False, False, False, False, False, False, True, False, False, False, True, True, False, True, False, False, True, False, False, True, True, False, False, False, False, False, False, False, False, False, False, False, False, False, True, False, True, False, False, False, False, False, False, False, False, False, False, False, False, True, False, True, True, True, False, True, False, False, True, True, False, False, False, False, True, True, False, False, True, False, False, True, True, False, True, False, True] ((True, -27), 27)\n"
     ]
    }
   ],
   "source": [
    "\n",
    "print(current_state)\n",
    "new_state = tweak(current_state)\n",
    "print(new_state)\n",
    "for step in range(100):  #we heuristically set the number of iteration -> we don't really know how much of them we in fact need\n",
    "    new_state = tweak(current_state)\n",
    "    if evaluate(new_state) > evaluate(current_state):\n",
    "        current_state = new_state\n",
    "        print(current_state,evaluate(current_state))\n"
   ]
  },
  {
   "cell_type": "code",
   "execution_count": 28,
   "metadata": {},
   "outputs": [
    {
     "data": {
      "text/plain": [
       "[True,\n",
       " False,\n",
       " False,\n",
       " False,\n",
       " False,\n",
       " False,\n",
       " False,\n",
       " False,\n",
       " True,\n",
       " False,\n",
       " False,\n",
       " False,\n",
       " False,\n",
       " False,\n",
       " False,\n",
       " False,\n",
       " False,\n",
       " True,\n",
       " False,\n",
       " True,\n",
       " False,\n",
       " False,\n",
       " False,\n",
       " False,\n",
       " False,\n",
       " False,\n",
       " False,\n",
       " False,\n",
       " False,\n",
       " True,\n",
       " False,\n",
       " False,\n",
       " False,\n",
       " True,\n",
       " True,\n",
       " False,\n",
       " True,\n",
       " False,\n",
       " False,\n",
       " True,\n",
       " False,\n",
       " False,\n",
       " True,\n",
       " True,\n",
       " False,\n",
       " False,\n",
       " False,\n",
       " False,\n",
       " False,\n",
       " False,\n",
       " False,\n",
       " False,\n",
       " False,\n",
       " False,\n",
       " False,\n",
       " False,\n",
       " False,\n",
       " True,\n",
       " False,\n",
       " True,\n",
       " False,\n",
       " False,\n",
       " False,\n",
       " False,\n",
       " False,\n",
       " False,\n",
       " False,\n",
       " False,\n",
       " False,\n",
       " False,\n",
       " False,\n",
       " False,\n",
       " True,\n",
       " False,\n",
       " True,\n",
       " True,\n",
       " True,\n",
       " False,\n",
       " True,\n",
       " False,\n",
       " False,\n",
       " True,\n",
       " True,\n",
       " False,\n",
       " False,\n",
       " False,\n",
       " False,\n",
       " True,\n",
       " True,\n",
       " False,\n",
       " False,\n",
       " True,\n",
       " False,\n",
       " False,\n",
       " True,\n",
       " True,\n",
       " False,\n",
       " True,\n",
       " False,\n",
       " True]"
      ]
     },
     "execution_count": 28,
     "metadata": {},
     "output_type": "execute_result"
    }
   ],
   "source": [
    "#remember that the state here is a representation of the SETS as taken(True) or not taken(False)\n",
    "#so if SETS[i] is taken current_state[i] will be equal to True\n",
    "current_state"
   ]
  }
 ],
 "metadata": {
  "kernelspec": {
   "display_name": "venv2",
   "language": "python",
   "name": "python3"
  },
  "language_info": {
   "codemirror_mode": {
    "name": "ipython",
    "version": 3
   },
   "file_extension": ".py",
   "mimetype": "text/x-python",
   "name": "python",
   "nbconvert_exporter": "python",
   "pygments_lexer": "ipython3",
   "version": "3.11.0"
  }
 },
 "nbformat": 4,
 "nbformat_minor": 2
}
