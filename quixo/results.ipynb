{
 "cells": [
  {
   "cell_type": "code",
   "execution_count": 2,
   "metadata": {},
   "outputs": [
    {
     "ename": "SyntaxError",
     "evalue": "invalid syntax (tree.py, line 329)",
     "output_type": "error",
     "traceback": [
      "Traceback \u001b[1;36m(most recent call last)\u001b[0m:\n",
      "\u001b[0m  File \u001b[0;32m~\\AppData\\Roaming\\Python\\Python311\\site-packages\\IPython\\core\\interactiveshell.py:3553\u001b[0m in \u001b[0;35mrun_code\u001b[0m\n    exec(code_obj, self.user_global_ns, self.user_ns)\u001b[0m\n",
      "\u001b[0m  Cell \u001b[0;32mIn[2], line 1\u001b[0m\n    from main import RandomPlayer, MonteCarloPlayer\u001b[0m\n",
      "\u001b[1;36m  File \u001b[1;32mc:\\Users\\robit\\Documents\\GitHub\\Computational-Intelligence\\WithMarco2\\quixo\\main.py:7\u001b[1;36m\n\u001b[1;33m    from tree import MonteCarloTreeSearchNode\u001b[1;36m\n",
      "\u001b[1;36m  File \u001b[1;32mc:\\Users\\robit\\Documents\\GitHub\\Computational-Intelligence\\WithMarco2\\quixo\\tree.py:329\u001b[1;36m\u001b[0m\n\u001b[1;33m    if reward != INF o -INF:\u001b[0m\n\u001b[1;37m                     ^\u001b[0m\n\u001b[1;31mSyntaxError\u001b[0m\u001b[1;31m:\u001b[0m invalid syntax\n"
     ]
    }
   ],
   "source": [
    "from main import RandomPlayer, MonteCarloPlayer, MonteCarloSPlayer\n",
    "from game import Game, Player\n",
    "from tqdm import tqdm\n",
    "import random\n",
    "import numpy as np\n",
    "\n",
    "GAMES = 100\n",
    "NS = [100, 125, 150]\n",
    "C = [0.1, 0.5]"
   ]
  },
  {
   "cell_type": "code",
   "execution_count": null,
   "metadata": {},
   "outputs": [],
   "source": [
    "players = np.empty(2, dtype=Player)\n",
    "for ns in NS:\n",
    "    for c in C:\n",
    "        print(f'Test avviato...\\nNumero simulazioni per rollout --> {ns}\\nC param per UCB equation --> {c}')\n",
    "        wins = 0\n",
    "        matches = 0 \n",
    "        for _ in tqdm(range(GAMES)):\n",
    "            matches += 1\n",
    "            my_player_id = random.randint(0,1)\n",
    "            g = Game()\n",
    "\n",
    "            # player initialization -> our player is players[my_player_id]\n",
    "            players[my_player_id] = MonteCarloPlayer(player_id=my_player_id,num_simulations=ns, c_param=c)\n",
    "            players[1 - my_player_id] = RandomPlayer()\n",
    "            # play the game\n",
    "            winner = g.play(players[0], players[1])\n",
    "            if winner == my_player_id:\n",
    "                wins += 1\n",
    "        acc  = 100*float(wins)/float(matches)\n",
    "        print(\"Accuracy: \", acc)"
   ]
  },
  {
   "cell_type": "code",
   "execution_count": 17,
   "metadata": {},
   "outputs": [],
   "source": [
    "import numpy as np \n",
    "\n",
    "def check_possible_win(state, player_id) -> bool:\n",
    "    board = state\n",
    "    key = player_id\n",
    "    for r in range(0, 5):\n",
    "        row = board[r, :]\n",
    "        col = board[:, r]\n",
    "        y = np.where(row == key)[0]\n",
    "        z = np.where(col == key)[0]\n",
    "        if (len(y) == 4):\n",
    "            col_pos = np.argwhere(row != key)[0][0]\n",
    "            if r != 0 and r != 4:\n",
    "                if board[r-1, col_pos] == key:\n",
    "                    if board[4, col_pos] == -1 or board[4, col_pos] == key:\n",
    "                        return True\n",
    "                elif board[r+1, col_pos] == key:\n",
    "                    if board[0, col_pos] == -1 or board[0, col_pos] == key:\n",
    "                        return True\n",
    "            else:\n",
    "                r_to_check = 4-r\n",
    "                if board[r_to_check, col_pos] == key or board[r_to_check, col_pos] == -1:\n",
    "                    return True\n",
    "        if (len(z) == 4):\n",
    "            row_pos = np.argwhere(col != key)[0][0]\n",
    "            if r != 0 and r != 4:\n",
    "                if board[row_pos, r-1] == key:\n",
    "                    if board[row_pos, 4] == -1 or board[row_pos, 4] == key:\n",
    "                        return True\n",
    "                elif board[row_pos, r+1] == key:\n",
    "                    if board[row_pos, 0] == -1 or board[row_pos, 0] == key:\n",
    "                        return True\n",
    "            else:\n",
    "                r_to_check = 4-r\n",
    "                if board[row_pos, r_to_check] == key or board[row_pos, r_to_check] == -1:\n",
    "                    return True \n",
    "    return False"
   ]
  },
  {
   "cell_type": "code",
   "execution_count": 18,
   "metadata": {},
   "outputs": [
    {
     "name": "stdout",
     "output_type": "stream",
     "text": [
      "True\n"
     ]
    }
   ],
   "source": [
    "board = np.array([[0, 1, -1, 0, 1],\n",
    "                  [1, 1, -1,-1,-1],\n",
    "                  [0, 1,  1, 1, 1],\n",
    "                  [-1,0,  1, 1, 0],\n",
    "                  [0, 1,  1, 0, 0]])\n",
    "print(check_possible_win(board, 1))"
   ]
  }
 ],
 "metadata": {
  "kernelspec": {
   "display_name": "Python 3",
   "language": "python",
   "name": "python3"
  },
  "language_info": {
   "codemirror_mode": {
    "name": "ipython",
    "version": 3
   },
   "file_extension": ".py",
   "mimetype": "text/x-python",
   "name": "python",
   "nbconvert_exporter": "python",
   "pygments_lexer": "ipython3",
   "version": "3.11.0"
  }
 },
 "nbformat": 4,
 "nbformat_minor": 2
}
