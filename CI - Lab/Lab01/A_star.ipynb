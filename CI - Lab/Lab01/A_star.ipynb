{
 "cells": [
  {
   "cell_type": "code",
   "execution_count": null,
   "metadata": {},
   "outputs": [],
   "source": [
    "from random import random\n",
    "from functools import reduce\n",
    "from collections import namedtuple\n",
    "from queue import PriorityQueue, SimpleQueue, LifoQueue\n",
    "\n",
    "import numpy as np"
   ]
  },
  {
   "cell_type": "code",
   "execution_count": null,
   "metadata": {},
   "outputs": [],
   "source": [
    "PROBLEM_SIZE = 30\n",
    "NUM_SETS = 20\n",
    "\n",
    "#returns a random number between 0 and 1. If the number is less than 0.3, the corresponding element in the array will be True, otherwise it will be False. \n",
    "# This code could be used to generate a data set for the set covering problem or a similar problem.\n",
    "SETS = tuple(np.array([random() < .3 for _ in range(PROBLEM_SIZE)]) for _ in range(NUM_SETS))\n",
    "State = namedtuple('State', ['taken', 'not_taken'])\n"
   ]
  },
  {
   "cell_type": "code",
   "execution_count": null,
   "metadata": {},
   "outputs": [],
   "source": [
    "def goal_check(state):\n",
    "     #The function checks whether all elements of a set are covered by the selected subsets. \n",
    "     #Uses the reduce function with the np.logical_or operator to combine all the selected subsets into a single Boolean array. \n",
    "     #Then, use the np.all function to check whether all elements of the set are covered. \n",
    "     #If all elements are covered, the function returns True, otherwise it returns False.\n",
    "    return np.all(reduce(np.logical_or, [SETS[i] for i in state.taken], np.array([False for _ in range(PROBLEM_SIZE)])))"
   ]
  },
  {
   "cell_type": "code",
   "execution_count": null,
   "metadata": {},
   "outputs": [],
   "source": [
    "assert goal_check(State(set(range(NUM_SETS)), set())), \"Probelm not solvable\""
   ]
  },
  {
   "cell_type": "code",
   "execution_count": null,
   "metadata": {},
   "outputs": [],
   "source": [
    "def path_cost(state):\n",
    "    return sum(reduce(np.logical_or, [SETS[i] for i in state.taken],np.array([False for _ in range(PROBLEM_SIZE)])))\n",
    "\n",
    "# another possible cost function would be the number of taken tiles: the smaller number of taken ones the better\n",
    "def g(state):\n",
    "    return len(state.taken)\n",
    "\n",
    "#if we want to apply a greedy approach we have to define the concept of distance between the actual state and the goal solution: like, how much taken tiles I have to add to find a goal state?\n",
    "def distance(state):\n",
    "    return PROBLEM_SIZE - sum(reduce(np.logical_or, [SETS[i] for i in state.taken],np.array([False for _ in range(PROBLEM_SIZE)])))\n",
    "\n",
    "def is_special(i):\n",
    "    return sum(SETS[i] == True)  >= ((PROBLEM_SIZE / 2))\n",
    "\n",
    "#################   RIVEDI STA PARTE QUA!!!!   ############\n",
    "\n",
    "def order_sets(state):\n",
    "    # Ordina gli insiemi in state.not_taken in base al criterio desiderato\n",
    "    ordered_sets = sorted(state.not_taken, key=lambda i: PROBLEM_SIZE - sum(reduce(np.logical_or, SETS[i],np.array([False for _ in range(PROBLEM_SIZE)]))), reverse=True)\n",
    "    \n",
    "    # Crea un nuovo stato con gli insiemi riordinati\n",
    "    new_state = State(state.taken, ordered_sets)\n",
    "    \n",
    "    return new_state\n",
    "\n",
    "##########################################################\n",
    "\n",
    "\n",
    "def h(state):\n",
    "    #order according to mumber of sets coverable by the not taken sets \n",
    "    state = order_sets(state)\n",
    "\n",
    "    # compute the distance from the goal state\n",
    "    dist = distance(state)\n",
    "    \n",
    "    # consider the special sets - see the is_special function to see what kind of sets we considers as special\n",
    "    special_sets = [i for i in state.not_taken if is_special(i)]\n",
    "    num_special_sets = len(special_sets)\n",
    "    print(\"special sets: \", num_special_sets)\n",
    "    return  dist - num_special_sets\n",
    "\n",
    "\n"
   ]
  },
  {
   "cell_type": "code",
   "execution_count": null,
   "metadata": {},
   "outputs": [],
   "source": [
    "def a_f(state):\n",
    "    h_f = h(state)\n",
    "    return g(state) + h_f"
   ]
  },
  {
   "cell_type": "code",
   "execution_count": null,
   "metadata": {},
   "outputs": [
    {
     "name": "stdout",
     "output_type": "stream",
     "text": [
      "special sets:  1\n",
      "29\n",
      "special sets:  1\n",
      "20\n",
      "special sets:  1\n",
      "21\n",
      "special sets:  1\n",
      "20\n",
      "special sets:  0\n",
      "15\n",
      "special sets:  1\n",
      "17\n",
      "special sets:  1\n",
      "21\n",
      "special sets:  1\n",
      "16\n",
      "special sets:  1\n",
      "17\n",
      "special sets:  1\n",
      "22\n",
      "special sets:  1\n",
      "21\n",
      "special sets:  1\n",
      "24\n",
      "special sets:  1\n",
      "20\n",
      "special sets:  1\n",
      "22\n",
      "special sets:  1\n",
      "19\n",
      "special sets:  1\n",
      "22\n",
      "special sets:  1\n",
      "20\n",
      "special sets:  1\n",
      "21\n",
      "special sets:  1\n",
      "22\n",
      "special sets:  1\n",
      "22\n",
      "special sets:  1\n",
      "23\n",
      "special sets:  0\n",
      "15\n",
      "15\n",
      "special sets:  0\n",
      "10\n",
      "special sets:  0\n",
      "10\n",
      "special sets:  0\n",
      "9\n",
      "special sets:  0\n",
      "8\n",
      "special sets:  0\n",
      "9\n",
      "special sets:  0\n",
      "7\n",
      "special sets:  0\n",
      "10\n",
      "special sets:  0\n",
      "12\n",
      "special sets:  0\n",
      "12\n",
      "special sets:  0\n",
      "12\n",
      "special sets:  0\n",
      "11\n",
      "special sets:  0\n",
      "11\n",
      "special sets:  0\n",
      "13\n",
      "special sets:  0\n",
      "12\n",
      "special sets:  0\n",
      "12\n",
      "special sets:  0\n",
      "10\n",
      "special sets:  0\n",
      "10\n",
      "special sets:  0\n",
      "11\n",
      "special sets:  0\n",
      "11\n",
      "special sets:  0\n",
      "7\n",
      "7\n",
      "special sets:  0\n",
      "5\n",
      "special sets:  0\n",
      "4\n",
      "special sets:  0\n",
      "4\n",
      "special sets:  0\n",
      "3\n",
      "special sets:  0\n",
      "6\n",
      "special sets:  0\n",
      "6\n",
      "special sets:  0\n",
      "6\n",
      "special sets:  0\n",
      "6\n",
      "special sets:  0\n",
      "5\n",
      "special sets:  0\n",
      "6\n",
      "special sets:  0\n",
      "3\n",
      "special sets:  0\n",
      "5\n",
      "special sets:  0\n",
      "5\n",
      "special sets:  0\n",
      "6\n",
      "special sets:  0\n",
      "3\n",
      "special sets:  0\n",
      "5\n",
      "special sets:  0\n",
      "6\n",
      "special sets:  0\n",
      "5\n",
      "special sets:  0\n",
      "3\n",
      "3\n",
      "special sets:  0\n",
      "2\n",
      "special sets:  0\n",
      "3\n",
      "special sets:  0\n",
      "0\n",
      "special sets:  0\n",
      "2\n",
      "special sets:  0\n",
      "3\n",
      "special sets:  0\n",
      "2\n",
      "special sets:  0\n",
      "3\n",
      "special sets:  0\n",
      "3\n",
      "special sets:  0\n",
      "2\n",
      "special sets:  0\n",
      "2\n",
      "special sets:  0\n",
      "1\n",
      "special sets:  0\n",
      "2\n",
      "special sets:  0\n",
      "2\n",
      "special sets:  0\n",
      "2\n",
      "special sets:  0\n",
      "2\n",
      "special sets:  0\n",
      "3\n",
      "special sets:  0\n",
      "3\n",
      "special sets:  0\n",
      "0\n",
      "0\n",
      "Solved in 4 steps\n",
      "special sets:  0\n",
      "0\n",
      "4\n"
     ]
    },
    {
     "data": {
      "text/plain": [
       "State(taken={2, 3, 4, 6}, not_taken={0, 1, 5, 7, 8, 9, 10, 11, 12, 13, 14, 15, 16, 17, 18, 19})"
      ]
     },
     "metadata": {},
     "output_type": "display_data"
    }
   ],
   "source": [
    "\n",
    "####  A STAR APPROACH  ####\n",
    "\n",
    "frontier = PriorityQueue() # we use a PriorityQueue because we want to define a cost funzion a_f = g(state) + h(state)\n",
    "initial_state = State(set(), set(range(NUM_SETS)))\n",
    "frontier.put((a_f(initial_state),initial_state)) #the first state is the one with no taken sets\n",
    "\n",
    "counter = 0 #counter used just to count the number of occurrencies needed to solve the problem\n",
    "_,current_state = frontier.get()  #start the resolution taking the first element from the frontier queue\n",
    "while not goal_check(current_state):    #iterate until the problem is not resolved\n",
    "    counter += 1\n",
    "    for action in current_state[1]: #an ACTION is represented as the activity of taking one set from \n",
    "        # The ^ operator in Python is a bitwise XOR (exclusive OR) operator. It returns True if and only if its arguments differ (one is True, the other is False)\n",
    "        #so here it equals to take an action (set) from not_taken and put it into taken\n",
    "        # new_state = State(current_state.taken | {action}, current_state.not_taken - {action}) -> this would be the same\n",
    "        new_state = State(current_state.taken ^ {action}, current_state.not_taken ^ {action})\n",
    "        a_funct = a_f(new_state)\n",
    "        #it puts all the states generated into the frontier queue\n",
    "        frontier.put((a_funct,new_state))\n",
    "    \n",
    "    #endly it takes one state at time and analyze its condition (if can be considered a goal state in the while above there)\n",
    "    _,current_state = frontier.get()\n",
    "    print(a_f(current_state) - g(current_state))\n",
    "    \n",
    "print(f\"Solved in {counter:,} steps\")\n",
    "print(a_f(current_state))\n",
    "current_state"
   ]
  },
  {
   "cell_type": "code",
   "execution_count": null,
   "metadata": {},
   "outputs": [
    {
     "name": "stdout",
     "output_type": "stream",
     "text": [
      "Solved in 4 steps\n",
      "0\n"
     ]
    },
    {
     "data": {
      "text/plain": [
       "State(taken={2, 3, 4, 6}, not_taken={0, 1, 5, 7, 8, 9, 10, 11, 12, 13, 14, 15, 16, 17, 18, 19})"
      ]
     },
     "metadata": {},
     "output_type": "display_data"
    }
   ],
   "source": [
    "\n",
    "####  GREEDY STAR APPROACH  ####\n",
    "\n",
    "frontier = PriorityQueue() # we use a PriorityQueue because we want to define a cost funzion distance(state)\n",
    "initial_state = State(set(), set(range(NUM_SETS)))\n",
    "frontier.put((distance(initial_state),initial_state)) #the first state is the one with no taken sets\n",
    "\n",
    "counter = 0 #counter used just to count the number of occurrencies needed to solve the problem\n",
    "_,current_state = frontier.get()  #start the resolution taking the first element from the frontier queue\n",
    "while not goal_check(current_state):    #iterate until the problem is not resolved\n",
    "    counter += 1\n",
    "    for action in current_state[1]: #an ACTION is represented as the activity of taking one set from \n",
    "        # The ^ operator in Python is a bitwise XOR (exclusive OR) operator. It returns True if and only if its arguments differ (one is True, the other is False)\n",
    "        #so here it equals to take an action (set) from not_taken and put it into taken\n",
    "        # new_state = State(current_state.taken | {action}, current_state.not_taken - {action}) -> this would be the same\n",
    "        new_state = State(current_state.taken ^ {action}, current_state.not_taken ^ {action})\n",
    "\n",
    "        #it puts all the states generated into the frontier queue\n",
    "        frontier.put((distance(new_state),new_state))\n",
    "    \n",
    "    #endly it takes one state at time and analyze its condition (if can be considered a goal state in the while above there)\n",
    "    _,current_state = frontier.get()\n",
    "\n",
    "print(f\"Solved in {counter:,} steps\")\n",
    "print(distance(current_state))\n",
    "current_state"
   ]
  },
  {
   "cell_type": "code",
   "execution_count": null,
   "metadata": {},
   "outputs": [
    {
     "data": {
      "text/plain": [
       "State(taken={169, 107, 77, 111, 17, 52, 59, 93}, not_taken={0, 1, 2, 3, 4, 5, 6, 7, 8, 9, 10, 11, 12, 13, 14, 15, 16, 18, 19, 20, 21, 22, 23, 24, 25, 26, 27, 28, 29, 30, 31, 32, 33, 34, 35, 36, 37, 38, 39, 40, 41, 42, 43, 44, 45, 46, 47, 48, 49, 50, 51, 53, 54, 55, 56, 57, 58, 60, 61, 62, 63, 64, 65, 66, 67, 68, 69, 70, 71, 72, 73, 74, 75, 76, 78, 79, 80, 81, 82, 83, 84, 85, 86, 87, 88, 89, 90, 91, 92, 94, 95, 96, 97, 98, 99, 100, 101, 102, 103, 104, 105, 106, 108, 109, 110, 112, 113, 114, 115, 116, 117, 118, 119, 120, 121, 122, 123, 124, 125, 126, 127, 128, 129, 130, 131, 132, 133, 134, 135, 136, 137, 138, 139, 140, 141, 142, 143, 144, 145, 146, 147, 148, 149, 150, 151, 152, 153, 154, 155, 156, 157, 158, 159, 160, 161, 162, 163, 164, 165, 166, 167, 168, 170, 171, 172, 173, 174, 175, 176, 177, 178, 179, 180, 181, 182, 183, 184, 185, 186, 187, 188, 189, 190, 191, 192, 193, 194, 195, 196, 197, 198, 199})"
      ]
     },
     "metadata": {},
     "output_type": "display_data"
    }
   ],
   "source": [
    "current_state"
   ]
  },
  {
   "cell_type": "code",
   "execution_count": null,
   "metadata": {},
   "outputs": [
    {
     "data": {
      "text/plain": [
       "True"
      ]
     },
     "metadata": {},
     "output_type": "display_data"
    }
   ],
   "source": [
    "goal_check(current_state)"
   ]
  }
 ],
 "metadata": {
  "kernelspec": {
   "display_name": "venv2",
   "language": "python",
   "name": "python3"
  },
  "language_info": {
   "codemirror_mode": {
    "name": "ipython",
    "version": 3
   },
   "file_extension": ".py",
   "mimetype": "text/x-python",
   "name": "python",
   "nbconvert_exporter": "python",
   "pygments_lexer": "ipython3",
   "version": "3.11.0"
  }
 },
 "nbformat": 4,
 "nbformat_minor": 2
}
