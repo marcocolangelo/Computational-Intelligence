{
 "cells": [
  {
   "cell_type": "code",
   "execution_count": 35,
   "metadata": {},
   "outputs": [],
   "source": [
    "#CONVERING SET problem is an exercise in which we have a set of discrete segments and we want to gather them in a set in order to cover another set.\n",
    "    #we want to find the optimal solution which can be selected according to the weight or the number of segments\n",
    "\n",
    "# We don't know what is the aspect of the goal state but we have a function we can use each time to verify if the current state is the goal one\n",
    "\n",
    "#The concept is we have two set: {sets we took} {sets we didn't take}\n",
    "\n",
    "#Each set is represened using a numerical id (from 0 to NUM_SETS-1)\n",
    "\n",
    "#Each state is represented as state = {sets we took} {sets we didn't take}\n",
    "\n",
    "#with the goal_check(state) function we verify if the current solution is the goal one\n",
    "\n",
    "#we apply the Generic Search using a LifoQueue to solve our problem (we can't use a QueueLifo and so a Dijkstra approach because we don't impose any kind of cost to the sets)\n"
   ]
  },
  {
   "cell_type": "code",
   "execution_count": 2,
   "metadata": {},
   "outputs": [],
   "source": [
    "from random import random\n",
    "from functools import reduce\n",
    "from collections import namedtuple\n",
    "from queue import PriorityQueue, SimpleQueue, LifoQueue\n",
    "import numpy as np"
   ]
  },
  {
   "cell_type": "code",
   "execution_count": 25,
   "metadata": {},
   "outputs": [],
   "source": [
    "PROBLEM_SIZE = 8\n",
    "NUM_SETS=8\n",
    "#this is just a way to name our tuples\n",
    "State = namedtuple('State', ['taken', 'not_taken'])"
   ]
  },
  {
   "cell_type": "code",
   "execution_count": 26,
   "metadata": {},
   "outputs": [],
   "source": [
    "#this operation allows us to generate randomly the sets we will use in the problem \n",
    "SETS = tuple(np.array([random() <.5 for _ in range(PROBLEM_SIZE)]) for _ in range(NUM_SETS))\n",
    "#goal_check(SETS)"
   ]
  },
  {
   "cell_type": "code",
   "execution_count": 27,
   "metadata": {},
   "outputs": [],
   "source": [
    "def goal_check(state):\n",
    "     #The function checks whether all elements of a set are covered by the selected subsets. \n",
    "     #Uses the reduce function with the np.logical_or operator to combine all the selected subsets into a single Boolean array. \n",
    "     #Then, use the np.all function to check whether all elements of the set are covered. \n",
    "     #If all elements are covered, the function returns True, otherwise it returns False.\n",
    "    return np.all(reduce(np.logical_or, [SETS[i] for i in state.taken], np.array([False for _ in range(PROBLEM_SIZE)])))"
   ]
  },
  {
   "cell_type": "code",
   "execution_count": 28,
   "metadata": {},
   "outputs": [],
   "source": [
    "assert goal_check(State(set(range(NUM_SETS)), set())), \"Probelm not solvable\""
   ]
  },
  {
   "cell_type": "code",
   "execution_count": 7,
   "metadata": {},
   "outputs": [
    {
     "name": "stdout",
     "output_type": "stream",
     "text": [
      "({0, 1, 2, 3, 4, 5, 6, 7}, set())\n",
      "(array([ True, False, False,  True, False, False, False,  True]), array([ True,  True,  True,  True, False, False,  True, False]), array([ True, False, False,  True,  True,  True,  True,  True]), array([ True,  True, False,  True,  True,  True, False,  True]), array([False, False,  True, False,  True, False,  True, False]), array([ True, False,  True, False,  True, False,  True, False]), array([ True, False, False, False, False, False,  True,  True]), array([False,  True, False, False,  True, False, False, False]))\n"
     ]
    },
    {
     "data": {
      "text/plain": [
       "array([6, 3, 3, 4, 5, 2, 5, 4])"
      ]
     },
     "execution_count": 7,
     "metadata": {},
     "output_type": "execute_result"
    }
   ],
   "source": [
    "#state of example - so it represents the sets (using their numerical id) taken in the current solution \n",
    "state = (set(range(NUM_SETS)),set())\n",
    "\n",
    "print(state)\n",
    "print(SETS)\n",
    "\n",
    "#this operation sums all the overlap along the taken sets according to the boolean value in SETS[i]  \n",
    "sum([SETS[i] for i in state[0]])"
   ]
  },
  {
   "cell_type": "code",
   "execution_count": 37,
   "metadata": {},
   "outputs": [
    {
     "name": "stdout",
     "output_type": "stream",
     "text": [
      "Solved in 3 steps\n"
     ]
    },
    {
     "data": {
      "text/plain": [
       "State(taken={5, 6, 7}, not_taken={0, 1, 2, 3, 4})"
      ]
     },
     "execution_count": 37,
     "metadata": {},
     "output_type": "execute_result"
    }
   ],
   "source": [
    "#here the application of the Generic Search viewed in class (third pack of slides pag 18)\n",
    "\n",
    "#This is a transcription of the professor wrote in class during the 10/10/2023 lecture. Look at the code below to see my work\n",
    "\n",
    "\n",
    "frontier = LifoQueue() # we use a LifoQueue (because we don't have a concept about the costs here) instead of a PriorityQueue which would be a particular case of the Generic Search (Dijkstra's alg.)\n",
    "frontier.put(State(set(), set(range(NUM_SETS)))) #the first state is the one with no taken sets\n",
    "\n",
    "counter = 0 #counter used just to count the number of occurrencies needed to solve the problem\n",
    "current_state = frontier.get()  #start the resolution taking the first element from the frontier queue\n",
    "while not goal_check(current_state):    #iterate until the problem is not resolved\n",
    "    counter += 1\n",
    "    for action in current_state[1]: #an ACTION is represented as the activity of taking one set from \n",
    "        # The ^ operator in Python is a bitwise XOR (exclusive OR) operator. It returns True if and only if its arguments differ (one is True, the other is False)\n",
    "        #so here it equals to take an action (set) from not_taken and put it into taken\n",
    "        # new_state = State(current_state.taken | {action}, current_state.not_taken - {action}) -> this would be the same\n",
    "        new_state = State(current_state.taken ^ {action}, current_state.not_taken ^ {action})\n",
    "\n",
    "        #it puts all the states generated into the frontier queue\n",
    "        frontier.put(new_state)\n",
    "    \n",
    "    #endly it takes one state at time and analyze its condition (if can be considered a goal state in the while above there)\n",
    "    current_state = frontier.get()\n",
    "\n",
    "print(f\"Solved in {counter:,} steps\")\n",
    "current_state"
   ]
  },
  {
   "cell_type": "code",
   "execution_count": 31,
   "metadata": {},
   "outputs": [
    {
     "data": {
      "text/plain": [
       "True"
      ]
     },
     "execution_count": 31,
     "metadata": {},
     "output_type": "execute_result"
    }
   ],
   "source": [
    "goal_check(current_state)"
   ]
  },
  {
   "cell_type": "code",
   "execution_count": null,
   "metadata": {},
   "outputs": [],
   "source": [
    "#You can find my code below this line"
   ]
  },
  {
   "cell_type": "code",
   "execution_count": 29,
   "metadata": {},
   "outputs": [],
   "source": [
    "# but now we would like to define an actual cost in order to find an OPTIMAL solution different from the one found above - this became a Dijkstra approach\n",
    "# we are going to use the total number of True elements of the set we are taking\n",
    "# [True False False] better than [True True False] I suppose\n",
    "\n",
    "def path_cost(state):\n",
    "    somma = 0\n",
    "    for s in state[0]:\n",
    "        for a in SETS[s]:\n",
    "            if a == True:\n",
    "                somma += 1\n",
    "    return somma\n"
   ]
  },
  {
   "cell_type": "code",
   "execution_count": 40,
   "metadata": {},
   "outputs": [
    {
     "name": "stdout",
     "output_type": "stream",
     "text": [
      "Solved in 52 steps\n",
      "State(taken=frozenset({2, 3, 7}), not_taken=frozenset({0, 1, 4, 5, 6}))\n"
     ]
    },
    {
     "data": {
      "text/plain": [
       "10"
      ]
     },
     "execution_count": 40,
     "metadata": {},
     "output_type": "execute_result"
    }
   ],
   "source": [
    "#use as priority function the iinverse of path_cost: smaller is better\n",
    "def priority_function(state):\n",
    "    return -path_cost(state)\n",
    "\n",
    "#Dijsktra logic applied though a priority function on a list (look at the frontier variable) NOT with a PriorityQueue. Some difference could appear in the\n",
    "\n",
    "frontier = [] #I used a list instead of a PriorityQueue and then I sorted it after each iteration to apply the priority logic\n",
    "frontier.append(State(frozenset(), frozenset(range(NUM_SETS)))) #the first state is the one with no taken sets -> we use the frozenset type since is compatible with the priority function sorting \n",
    "state_cost = {} # Use a dictionary to store the cost of each state\n",
    "counter = 0 #counter used just to count the number of occurrencies needed to solve the problem\n",
    "current_state = frontier.pop()  #start the resolution taking the first element from the frontier queue\n",
    "while not goal_check(current_state):    #iterate until the problem is not resolved\n",
    "    counter += 1\n",
    "    for action in current_state[1]: #an ACTION is represented as the activity of taking one set from the not_taken group\n",
    "        new_state = State(current_state.taken ^ frozenset({action}), current_state.not_taken ^ frozenset({action}))\n",
    "        new_node = new_state # Use new_state as new_node\n",
    "        if new_state not in state_cost and new_state not in frontier: # Use .queue to get a list of elements in the PriorityQueue\n",
    "            # Add node to frontier and update solution\n",
    "            state_cost[new_node] = path_cost(new_state) # Update state_cost dictionary\n",
    "            frontier.append(new_state)\n",
    "        elif new_state in frontier and state_cost[new_node] > path_cost(new_state): \n",
    "            #update node and solution\n",
    "            state_cost[new_node] = path_cost(new_state) # Update state_cost dictionary\n",
    "    frontier.sort(key=priority_function) #let's apply the priority sorting to make the list equal to a real priority queue\n",
    "    current_state = frontier.pop()  #this pop takes off the element with the highest priority\n",
    "\n",
    "print(f\"Solved in {counter:,} steps\")\n",
    "\n",
    "print(current_state)\n",
    "\n",
    "path_cost(current_state)\n"
   ]
  },
  {
   "cell_type": "code",
   "execution_count": 44,
   "metadata": {},
   "outputs": [
    {
     "name": "stdout",
     "output_type": "stream",
     "text": [
      "Solved in 44 steps\n",
      "State(taken=frozenset({2, 3, 7}), not_taken=frozenset({0, 1, 4, 5, 6}))\n"
     ]
    },
    {
     "data": {
      "text/plain": [
       "10"
      ]
     },
     "execution_count": 44,
     "metadata": {},
     "output_type": "execute_result"
    }
   ],
   "source": [
    "#This should be the official Dijkstra solution. Look at how the number of needed iterations is lower while the result is the same\n",
    "\n",
    "def priority_function(state):\n",
    "    return path_cost(state)\n",
    "\n",
    "import heapq\n",
    "\n",
    "initial_state = State(frozenset(), frozenset(range(NUM_SETS)))\n",
    "frontier = [] # Now we use a priority queue implemented with a heap\n",
    "heapq.heappush(frontier, (priority_function(initial_state), initial_state)) # Push the first state into the frontier\n",
    "state_cost = {initial_state: 0} # Initialize state_cost with the initial state\n",
    "counter = 0 # Counter used just to count the number of occurrences needed to solve the problem\n",
    "current_state = heapq.heappop(frontier)[1]  # Start the resolution taking the first element from the frontier queue\n",
    "while not goal_check(current_state):    # Iterate until the problem is not resolved\n",
    "    counter += 1\n",
    "    for action in current_state[1]: # An ACTION is represented as the activity of taking one set from the not_taken group\n",
    "        new_state = State(current_state.taken ^ frozenset({action}), current_state.not_taken ^ frozenset({action}))\n",
    "        new_node = new_state # Use new_state as new_node\n",
    "        new_cost = path_cost(new_state) # Calculate the cost of the new state using your path_cost function\n",
    "        if new_state not in state_cost or new_cost < state_cost[new_state]: \n",
    "            state_cost[new_node] = new_cost # Update state_cost dictionary\n",
    "            heapq.heappush(frontier, (priority_function(new_state), new_state))\n",
    "    current_state = heapq.heappop(frontier)[1]  # This pop takes off the element with the highest priority\n",
    "\n",
    "print(f\"Solved in {counter:,} steps\")\n",
    "\n",
    "print(current_state)\n",
    "\n",
    "path_cost(current_state)\n"
   ]
  }
 ],
 "metadata": {
  "kernelspec": {
   "display_name": "venv",
   "language": "python",
   "name": "python3"
  },
  "language_info": {
   "codemirror_mode": {
    "name": "ipython",
    "version": 3
   },
   "file_extension": ".py",
   "mimetype": "text/x-python",
   "name": "python",
   "nbconvert_exporter": "python",
   "pygments_lexer": "ipython3",
   "version": "3.11.0"
  },
  "orig_nbformat": 4
 },
 "nbformat": 4,
 "nbformat_minor": 2
}
