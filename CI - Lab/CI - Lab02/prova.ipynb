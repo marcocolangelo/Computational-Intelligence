{
 "cells": [
  {
   "cell_type": "code",
   "execution_count": 7,
   "metadata": {},
   "outputs": [
    {
     "data": {
      "text/plain": [
       "<bound method io.ciao of <__main__.io object at 0x0000023B0826ACD0>>"
      ]
     },
     "execution_count": 7,
     "metadata": {},
     "output_type": "execute_result"
    }
   ],
   "source": [
    "class io:\n",
    "    def init():\n",
    "        return self\n",
    "    def ciao(self):\n",
    "        return None\n",
    "    \n",
    "mio = io()\n",
    "\n",
    "f = mio.ciao\n",
    "vettore = [f,\"a\"]\n",
    "\n",
    "            index = strategy.index(my_strategy)      #take the index of our ES actor\n",
    "\n",
    "\n"
   ]
  }
 ],
 "metadata": {
  "kernelspec": {
   "display_name": ".venv",
   "language": "python",
   "name": "python3"
  },
  "language_info": {
   "codemirror_mode": {
    "name": "ipython",
    "version": 3
   },
   "file_extension": ".py",
   "mimetype": "text/x-python",
   "name": "python",
   "nbconvert_exporter": "python",
   "pygments_lexer": "ipython3",
   "version": "3.11.0"
  }
 },
 "nbformat": 4,
 "nbformat_minor": 2
}
