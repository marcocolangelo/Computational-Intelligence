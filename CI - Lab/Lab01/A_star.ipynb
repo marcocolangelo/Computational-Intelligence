{
 "cells": [
  {
   "cell_type": "code",
   "execution_count": 61,
   "metadata": {},
   "outputs": [],
   "source": [
    "from random import random\n",
    "from functools import reduce\n",
    "from collections import namedtuple\n",
    "from queue import PriorityQueue, SimpleQueue, LifoQueue\n",
    "import numpy as np"
   ]
  },
  {
   "cell_type": "code",
   "execution_count": 62,
   "metadata": {},
   "outputs": [],
   "source": [
    "PROBLEM_SIZE = 50\n",
    "NUM_SETS = 80\n",
    "\n",
    "SETS = tuple(np.array([random() < .3 for _ in range(PROBLEM_SIZE)]) for _ in range(NUM_SETS))\n",
    "State = namedtuple('State', ['taken', 'not_taken'])\n"
   ]
  },
  {
   "cell_type": "code",
   "execution_count": 63,
   "metadata": {},
   "outputs": [],
   "source": [
    "def goal_check(state):\n",
    "     #The function checks whether all elements of a set are covered by the selected subsets. \n",
    "     #Uses the reduce function with the np.logical_or operator to combine all the selected subsets into a single Boolean array. \n",
    "     #Then, use the np.all function to check whether all elements of the set are covered. \n",
    "     #If all elements are covered, the function returns True, otherwise it returns False.\n",
    "    return np.all(reduce(np.logical_or, [SETS[i] for i in state.taken], np.array([False for _ in range(PROBLEM_SIZE)])))"
   ]
  },
  {
   "cell_type": "code",
   "execution_count": 64,
   "metadata": {},
   "outputs": [],
   "source": [
    "assert goal_check(State(set(range(NUM_SETS)), set())), \"Probelm not solvable\""
   ]
  },
  {
   "cell_type": "code",
   "execution_count": 65,
   "metadata": {},
   "outputs": [],
   "source": [
    "def overlap(i, taken):\n",
    "    # Calcola la sovrapposizione tra l'insieme i e gli insiemi già selezionati\n",
    "    overlap = sum(np.logical_and(SETS[i], np.any([SETS[j] for j in taken], axis=0)))\n",
    "    return overlap\n"
   ]
  },
  {
   "cell_type": "code",
   "execution_count": 69,
   "metadata": {},
   "outputs": [],
   "source": [
    "def g(state):\n",
    "     return len(state.taken)\n",
    "\n",
    "def covered(state):\n",
    "    return reduce(\n",
    "        np.logical_or,  #or function applied\n",
    "        [SETS[i] for i in state.taken],     #between each already taken SETS \n",
    "        np.array([False for _ in range(PROBLEM_SIZE)]), #and a vector full of FALSE\n",
    "    )\n",
    "\n",
    "\n",
    "\n",
    "# my own h function - DENSITY concept has been added\n",
    "def h(state):\n",
    "    already_covered = covered(state)        #boolean vector\n",
    "    if np.all(already_covered):             #if all the elements are equal to True then the problem is already solved\n",
    "        return 0\n",
    "    missing_size = PROBLEM_SIZE - sum(already_covered)  #number of sets not covered yet\n",
    "    \n",
    "    #calculate the density of each set as the number of uncovered elements it can cover divided by its total coverage\n",
    "    #an OVERLAP factor is added to Calculate the overlap between set i and every already selected set. \n",
    "    #Finally, the sum function adds up all the true values (which represent an overlap) to get the total number of overlapped elements. Less overlap is better.\n",
    "    densities = [(i, sum(np.logical_and(SETS[i], np.logical_not(already_covered))) / (1 + overlap(i, state.taken)) / sum(SETS[i])) for i in state.not_taken]\n",
    "        \n",
    "    #order the sets in descending order with respect to the density\n",
    "    candidates = [SETS[i] for i, _ in sorted(densities, key=lambda x: x[1], reverse=True)]\n",
    "    \n",
    "    taken = 1\n",
    "    while sum(sum(candidates[i]) for i in range(taken)) < missing_size:   #take the first \"n_taken\" elements from the candidates vector and verify if the sum of the elements covered by them is sufficient to reach the goal state\n",
    "        taken += 1\n",
    "    return taken\n",
    "\n",
    "\n",
    "\n",
    "\n"
   ]
  },
  {
   "cell_type": "code",
   "execution_count": 67,
   "metadata": {},
   "outputs": [],
   "source": [
    "def a_f(state):\n",
    "    return g(state) + h(state)"
   ]
  },
  {
   "cell_type": "code",
   "execution_count": 68,
   "metadata": {},
   "outputs": [
    {
     "name": "stdout",
     "output_type": "stream",
     "text": [
      "Solved in 210 steps\n",
      "4\n",
      "State(taken={8, 74, 30, 14}, not_taken={0, 1, 2, 3, 4, 5, 6, 7, 9, 10, 11, 12, 13, 15, 16, 17, 18, 19, 20, 21, 22, 23, 24, 25, 26, 27, 28, 29, 31, 32, 33, 34, 35, 36, 37, 38, 39, 40, 41, 42, 43, 44, 45, 46, 47, 48, 49, 50, 51, 52, 53, 54, 55, 56, 57, 58, 59, 60, 61, 62, 63, 64, 65, 66, 67, 68, 69, 70, 71, 72, 73, 75, 76, 77, 78, 79})\n"
     ]
    }
   ],
   "source": [
    "\n",
    "####  My own A* APPROACH  where the h function takes the optimistic info from the DENSITY of each set ####\n",
    "\n",
    "#This heuristic is optimistic because it assumes that every set selected in the future will be able to cover the maximum possible number of uncovered elements \n",
    "#(i.e., the sets with the highest density). \n",
    "#Therefore, it should work well with the A* algorithm.\n",
    "\n",
    "#set DENSITY is computed as the ratio between n_stil_uncovered_elements_coverable_by_the_set / n_total_elements_coverable_by_the_set\n",
    "\n",
    "frontier = PriorityQueue() # we use a PriorityQueue because we want to define a cost funzion a_f = g(state) + h(state)\n",
    "initial_state = State(set(), set(range(NUM_SETS)))\n",
    "frontier.put((a_f(initial_state),initial_state)) #the first state is the one with no taken sets\n",
    "\n",
    "counter = 0 #counter used just to count the number of occurrencies needed to solve the problem\n",
    "_,current_state = frontier.get()  #start the resolution taking the first element from the frontier queue\n",
    "while not goal_check(current_state):    #iterate until the problem is not resolved\n",
    "    counter += 1\n",
    "    for action in current_state[1]: #an ACTION is represented as the activity of taking one set from \n",
    "        # The ^ operator in Python is a bitwise XOR (exclusive OR) operator. It returns True if and only if its arguments differ (one is True, the other is False)\n",
    "        #so here it equals to take an action (set) from not_taken and put it into taken\n",
    "        # new_state = State(current_state.taken | {action}, current_state.not_taken - {action}) -> this would be the same\n",
    "        new_state = State(current_state.taken ^ {action}, current_state.not_taken ^ {action})\n",
    "        a_funct = a_f(new_state)\n",
    "        #it puts all the states generated into the frontier queue\n",
    "        frontier.put((a_funct,new_state))\n",
    "    \n",
    "    #endly it takes one state at time and analyze its condition (if can be considered a goal state in the while above there)\n",
    "    _,current_state = frontier.get()\n",
    "    #print(\"h cost: \" , a_f(current_state) - g(current_state))\n",
    "    \n",
    "print(f\"Solved in {counter:,} steps\")\n",
    "print(a_f(current_state))\n",
    "print(current_state)"
   ]
  },
  {
   "cell_type": "code",
   "execution_count": 70,
   "metadata": {},
   "outputs": [
    {
     "name": "stdout",
     "output_type": "stream",
     "text": [
      "Solved in 792 steps\n",
      "4\n",
      "State(taken={8, 74, 14, 30}, not_taken={0, 1, 2, 3, 4, 5, 6, 7, 9, 10, 11, 12, 13, 15, 16, 17, 18, 19, 20, 21, 22, 23, 24, 25, 26, 27, 28, 29, 31, 32, 33, 34, 35, 36, 37, 38, 39, 40, 41, 42, 43, 44, 45, 46, 47, 48, 49, 50, 51, 52, 53, 54, 55, 56, 57, 58, 59, 60, 61, 62, 63, 64, 65, 66, 67, 68, 69, 70, 71, 72, 73, 75, 76, 77, 78, 79})\n"
     ]
    }
   ],
   "source": [
    "#######  PROFESSOR h3 function comparison ##########\n",
    "\n",
    "def h(state):\n",
    "    already_covered = covered(state)\n",
    "    if np.all(already_covered):\n",
    "        return 0\n",
    "    missing_size = PROBLEM_SIZE - sum(already_covered)\n",
    "    candidates = sorted((sum(np.logical_and(s, np.logical_not(already_covered))) for s in SETS), reverse=True)\n",
    "    taken = 1\n",
    "    while sum(candidates[:taken]) < missing_size:\n",
    "        taken += 1\n",
    "    return taken\n",
    "\n",
    "\n",
    "####  A STAR APPROACH  with ordered version####\n",
    "\n",
    "frontier = PriorityQueue() # we use a PriorityQueue because we want to define a cost funzion a_f = g(state) + h(state)\n",
    "initial_state = State(set(), set(range(NUM_SETS)))\n",
    "frontier.put((a_f(initial_state),initial_state)) #the first state is the one with no taken sets\n",
    "\n",
    "counter = 0 #counter used just to count the number of occurrencies needed to solve the problem\n",
    "_,current_state = frontier.get()  #start the resolution taking the first element from the frontier queue\n",
    "while not goal_check(current_state):    #iterate until the problem is not resolved\n",
    "    counter += 1\n",
    "    for action in current_state[1]: #an ACTION is represented as the activity of taking one set from \n",
    "        # The ^ operator in Python is a bitwise XOR (exclusive OR) operator. It returns True if and only if its arguments differ (one is True, the other is False)\n",
    "        #so here it equals to take an action (set) from not_taken and put it into taken\n",
    "        # new_state = State(current_state.taken | {action}, current_state.not_taken - {action}) -> this would be the same\n",
    "        new_state = State(current_state.taken ^ {action}, current_state.not_taken ^ {action})\n",
    "        a_funct = a_f(new_state)\n",
    "        #it puts all the states generated into the frontier queue\n",
    "        frontier.put((a_funct,new_state))\n",
    "    \n",
    "    #endly it takes one state at time and analyze its condition (if can be considered a goal state in the while above there)\n",
    "    _,current_state = frontier.get()\n",
    "    #print(\"h cost: \" , a_f(current_state) - g(current_state))\n",
    "    \n",
    "print(f\"Solved in {counter:,} steps\")\n",
    "print(a_f(current_state))\n",
    "print(current_state)"
   ]
  },
  {
   "cell_type": "code",
   "execution_count": 38,
   "metadata": {},
   "outputs": [
    {
     "name": "stdout",
     "output_type": "stream",
     "text": [
      "Solved in 95,752 steps\n",
      "4\n"
     ]
    },
    {
     "data": {
      "text/plain": [
       "State(taken={33, 18, 4, 30}, not_taken={0, 1, 2, 3, 5, 6, 7, 8, 9, 10, 11, 12, 13, 14, 15, 16, 17, 19, 20, 21, 22, 23, 24, 25, 26, 27, 28, 29, 31, 32, 34, 35, 36, 37, 38, 39})"
      ]
     },
     "execution_count": 38,
     "metadata": {},
     "output_type": "execute_result"
    }
   ],
   "source": [
    "#BREADHT FIRST\n",
    "\n",
    "\n",
    "frontier = PriorityQueue() # we use a PriorityQueue because we want to define a cost funzion a_f = g(state) + h(state)\n",
    "initial_state = State(set(), set(range(NUM_SETS)))\n",
    "frontier.put((g(initial_state),initial_state)) #the first state is the one with no taken sets\n",
    "\n",
    "counter = 0 #counter used just to count the number of occurrencies needed to solve the problem\n",
    "_,current_state = frontier.get()  #start the resolution taking the first element from the frontier queue\n",
    "while not goal_check(current_state):    #iterate until the problem is not resolved\n",
    "    counter += 1\n",
    "    for action in current_state[1]: #an ACTION is represented as the activity of taking one set from \n",
    "        # The ^ operator in Python is a bitwise XOR (exclusive OR) operator. It returns True if and only if its arguments differ (one is True, the other is False)\n",
    "        #so here it equals to take an action (set) from not_taken and put it into taken\n",
    "        # new_state = State(current_state.taken | {action}, current_state.not_taken - {action}) -> this would be the same\n",
    "        new_state = State(current_state.taken ^ {action}, current_state.not_taken ^ {action})\n",
    "        a_funct = g(new_state)\n",
    "        #it puts all the states generated into the frontier queue\n",
    "        frontier.put((a_funct,new_state))\n",
    "    \n",
    "    #endly it takes one state at time and analyze its condition (if can be considered a goal state in the while above there)\n",
    "    b_value,current_state = frontier.get()\n",
    "    \n",
    "    \n",
    "print(f\"Solved in {counter:,} steps\")\n",
    "print(b_value)\n",
    "current_state"
   ]
  },
  {
   "cell_type": "code",
   "execution_count": 20,
   "metadata": {},
   "outputs": [
    {
     "data": {
      "text/plain": [
       "True"
      ]
     },
     "execution_count": 20,
     "metadata": {},
     "output_type": "execute_result"
    }
   ],
   "source": [
    "goal_check(current_state)"
   ]
  },
  {
   "cell_type": "code",
   "execution_count": 39,
   "metadata": {},
   "outputs": [],
   "source": [
    "                                                                #  FINAL CONSIDERATIONS  #\n",
    "\n",
    "#The heuristic h3(state) might be more efficient if the size of the sets (i.e., the number of elements they cover) is a critical factor in your problem. \n",
    "#Since h3(state) prioritizes sets that cover more elements, it might be able to cover all the uncovered elements more quickly.\n",
    "\n",
    "#On the other hand, my personal heuristic h(state) might be more efficient if the “density” of the sets (i.e., the ratio between the number of uncovered elements they can cover and their total coverage)\n",
    "#is a critical factor. Since h(state) prioritizes sets with a higher density, it might be able to cover all the uncovered elements using fewer sets.\n",
    "#The overlap factor added as ulterior denominator is used to encourage the algorithm to prefer solutions with a lower number of overlaps\n"
   ]
  }
 ],
 "metadata": {
  "kernelspec": {
   "display_name": "venv2",
   "language": "python",
   "name": "python3"
  },
  "language_info": {
   "codemirror_mode": {
    "name": "ipython",
    "version": 3
   },
   "file_extension": ".py",
   "mimetype": "text/x-python",
   "name": "python",
   "nbconvert_exporter": "python",
   "pygments_lexer": "ipython3",
   "version": "3.11.0"
  }
 },
 "nbformat": 4,
 "nbformat_minor": 2
}
