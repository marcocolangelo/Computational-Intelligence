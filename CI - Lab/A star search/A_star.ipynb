{
 "cells": [
  {
   "cell_type": "code",
   "execution_count": 2,
   "metadata": {},
   "outputs": [],
   "source": [
    "from random import random\n",
    "from functools import reduce\n",
    "from collections import namedtuple\n",
    "from queue import PriorityQueue, SimpleQueue, LifoQueue\n",
    "\n",
    "import numpy as np"
   ]
  },
  {
   "cell_type": "code",
   "execution_count": 3,
   "metadata": {},
   "outputs": [],
   "source": [
    "PROBLEM_SIZE = 100\n",
    "NUM_SETS = 90\n",
    "#returns a random number between 0 and 1. If the number is less than 0.3, the corresponding element in the array will be True, otherwise it will be False. \n",
    "# This code could be used to generate a data set for the set covering problem or a similar problem.\n",
    "SETS = tuple(np.array([random() < .3 for _ in range(PROBLEM_SIZE)]) for _ in range(NUM_SETS))\n",
    "State = namedtuple('State', ['taken', 'not_taken'])\n"
   ]
  },
  {
   "cell_type": "code",
   "execution_count": 4,
   "metadata": {},
   "outputs": [],
   "source": [
    "def goal_check(state):\n",
    "     #The function checks whether all elements of a set are covered by the selected subsets. \n",
    "     #Uses the reduce function with the np.logical_or operator to combine all the selected subsets into a single Boolean array. \n",
    "     #Then, use the np.all function to check whether all elements of the set are covered. \n",
    "     #If all elements are covered, the function returns True, otherwise it returns False.\n",
    "    return np.all(reduce(np.logical_or, [SETS[i] for i in state.taken], np.array([False for _ in range(PROBLEM_SIZE)])))"
   ]
  },
  {
   "cell_type": "code",
   "execution_count": 5,
   "metadata": {},
   "outputs": [],
   "source": [
    "assert goal_check(State(set(range(NUM_SETS)), set())), \"Probelm not solvable\""
   ]
  },
  {
   "cell_type": "code",
   "execution_count": 35,
   "metadata": {},
   "outputs": [],
   "source": [
    "def path_cost(state):\n",
    "\n",
    "    return sum(reduce(np.logical_or, [SETS[i] for i in state.taken],np.array([False for _ in range(PROBLEM_SIZE)])))\n",
    "\n",
    "# another possible cost function would be the number of taken tiles: the smaller number of taken ones the better\n",
    "def g(state):\n",
    "    return len(state.taken)\n",
    "\n",
    "#if we want to apply a greedy approach we have to define the concept of distance between the actual state and the goal solution: like, how much taken tiles I have to add to find a goal state?\n",
    "def distance(state):\n",
    "    return PROBLEM_SIZE - sum(reduce(np.logical_or, [SETS[i] for i in state.taken],np.array([False for _ in range(PROBLEM_SIZE)])))\n",
    "\n",
    "def is_special(i):\n",
    "    return sum(SETS[i] == True)  >= ((PROBLEM_SIZE / 2) + PROBLEM_SIZE/10)\n",
    "\n",
    "#################   RIVEDI STA PARTE QUA!!!!   ############\n",
    "\n",
    "def calculate_order_factor(state):\n",
    "    # Ordina gli insiemi in state.not_taken in base al criterio desiderato\n",
    "    ordered_sets = sorted(state.not_taken, key=lambda i: sum(SETS[i]), reverse=True)\n",
    "    \n",
    "    # Crea un nuovo stato con gli insiemi riordinati\n",
    "    new_state = State(state.taken, ordered_sets)\n",
    "    \n",
    "    return new_state\n",
    "\n",
    "##########################################################\n",
    "\n",
    "\n",
    "def h(state):\n",
    "    #order according to mumber of sets coverable by the not taken sets \n",
    "    state = calculate_order_factor(state)\n",
    "\n",
    "    # compute the distance from the goal state\n",
    "    dist = distance(state)\n",
    "    \n",
    "    # consider the special sets - see the is_special function to see what kind of sets we considers as special\n",
    "    special_sets = [i for i in state.not_taken if is_special(i)]\n",
    "    num_special_sets = len(special_sets)\n",
    "\n",
    "    return  dist - num_special_sets\n",
    "\n",
    "\n"
   ]
  },
  {
   "cell_type": "code",
   "execution_count": 28,
   "metadata": {},
   "outputs": [],
   "source": [
    "def a_f(state):\n",
    "    return g(state) + h(state)"
   ]
  },
  {
   "cell_type": "code",
   "execution_count": 36,
   "metadata": {},
   "outputs": [
    {
     "name": "stdout",
     "output_type": "stream",
     "text": [
      "Solved in 6 steps\n",
      "6\n"
     ]
    },
    {
     "data": {
      "text/plain": [
       "State(taken={67, 36, 8, 81, 22, 29}, not_taken={0, 1, 2, 3, 4, 5, 6, 7, 9, 10, 11, 12, 13, 14, 15, 16, 17, 18, 19, 20, 21, 23, 24, 25, 26, 27, 28, 30, 31, 32, 33, 34, 35, 37, 38, 39, 40, 41, 42, 43, 44, 45, 46, 47, 48, 49, 50, 51, 52, 53, 54, 55, 56, 57, 58, 59, 60, 61, 62, 63, 64, 65, 66, 68, 69, 70, 71, 72, 73, 74, 75, 76, 77, 78, 79, 80, 82, 83, 84, 85, 86, 87, 88, 89})"
      ]
     },
     "execution_count": 36,
     "metadata": {},
     "output_type": "execute_result"
    }
   ],
   "source": [
    "\n",
    "####  A STAR APPROACH  ####\n",
    "\n",
    "frontier = PriorityQueue() # we use a PriorityQueue because we want to define a cost funzion a_f = g(state) + h(state)\n",
    "initial_state = State(set(), set(range(NUM_SETS)))\n",
    "frontier.put((a_f(initial_state),initial_state)) #the first state is the one with no taken sets\n",
    "\n",
    "counter = 0 #counter used just to count the number of occurrencies needed to solve the problem\n",
    "_,current_state = frontier.get()  #start the resolution taking the first element from the frontier queue\n",
    "while not goal_check(current_state):    #iterate until the problem is not resolved\n",
    "    counter += 1\n",
    "    for action in current_state[1]: #an ACTION is represented as the activity of taking one set from \n",
    "        # The ^ operator in Python is a bitwise XOR (exclusive OR) operator. It returns True if and only if its arguments differ (one is True, the other is False)\n",
    "        #so here it equals to take an action (set) from not_taken and put it into taken\n",
    "        # new_state = State(current_state.taken | {action}, current_state.not_taken - {action}) -> this would be the same\n",
    "        new_state = State(current_state.taken ^ {action}, current_state.not_taken ^ {action})\n",
    "\n",
    "        #it puts all the states generated into the frontier queue\n",
    "        frontier.put((a_f(new_state),new_state))\n",
    "    \n",
    "    #endly it takes one state at time and analyze its condition (if can be considered a goal state in the while above there)\n",
    "    _,current_state = frontier.get()\n",
    "\n",
    "print(f\"Solved in {counter:,} steps\")\n",
    "print(a_f(current_state))\n",
    "current_state"
   ]
  },
  {
   "cell_type": "code",
   "execution_count": 9,
   "metadata": {},
   "outputs": [
    {
     "data": {
      "text/plain": [
       "State(taken={67, 36, 8, 81, 22, 29}, not_taken={0, 1, 2, 3, 4, 5, 6, 7, 9, 10, 11, 12, 13, 14, 15, 16, 17, 18, 19, 20, 21, 23, 24, 25, 26, 27, 28, 30, 31, 32, 33, 34, 35, 37, 38, 39, 40, 41, 42, 43, 44, 45, 46, 47, 48, 49, 50, 51, 52, 53, 54, 55, 56, 57, 58, 59, 60, 61, 62, 63, 64, 65, 66, 68, 69, 70, 71, 72, 73, 74, 75, 76, 77, 78, 79, 80, 82, 83, 84, 85, 86, 87, 88, 89})"
      ]
     },
     "execution_count": 9,
     "metadata": {},
     "output_type": "execute_result"
    }
   ],
   "source": [
    "current_state"
   ]
  },
  {
   "cell_type": "code",
   "execution_count": 10,
   "metadata": {},
   "outputs": [
    {
     "data": {
      "text/plain": [
       "True"
      ]
     },
     "execution_count": 10,
     "metadata": {},
     "output_type": "execute_result"
    }
   ],
   "source": [
    "goal_check(current_state)"
   ]
  }
 ],
 "metadata": {
  "kernelspec": {
   "display_name": "venv2",
   "language": "python",
   "name": "python3"
  },
  "language_info": {
   "codemirror_mode": {
    "name": "ipython",
    "version": 3
   },
   "file_extension": ".py",
   "mimetype": "text/x-python",
   "name": "python",
   "nbconvert_exporter": "python",
   "pygments_lexer": "ipython3",
   "version": "3.11.0"
  }
 },
 "nbformat": 4,
 "nbformat_minor": 2
}
