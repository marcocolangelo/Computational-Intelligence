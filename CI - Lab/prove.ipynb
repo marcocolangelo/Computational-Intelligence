{
 "cells": [
  {
   "cell_type": "code",
   "execution_count": 10,
   "metadata": {},
   "outputs": [],
   "source": [
    "from enum import Enum\n",
    "\n",
    "\n",
    "class Move(Enum):\n",
    "    TOP = 0\n",
    "    BOTTOM = 1\n",
    "    LEFT = 2\n",
    "    RIGHT = 3\n",
    "\n",
    "    \n",
    "    \n"
   ]
  },
  {
   "cell_type": "code",
   "execution_count": 12,
   "metadata": {},
   "outputs": [
    {
     "name": "stdout",
     "output_type": "stream",
     "text": [
      "Move.TOP\n",
      "[<Move.TOP: 0>, <Move.BOTTOM: 1>, <Move.LEFT: 2>, <Move.RIGHT: 3>]\n"
     ]
    },
    {
     "data": {
      "text/plain": [
       "True"
      ]
     },
     "execution_count": 12,
     "metadata": {},
     "output_type": "execute_result"
    }
   ],
   "source": [
    "def test_move_compare():\n",
    "    var1 = Move.TOP\n",
    "    print(var1)\n",
    "    var2 = list([Move.TOP, Move.BOTTOM, Move.LEFT, Move.RIGHT])\n",
    "    print(var2)\n",
    "    return var1 in var2\n",
    "\n",
    "test_move_compare()"
   ]
  }
 ],
 "metadata": {
  "kernelspec": {
   "display_name": "Python 3",
   "language": "python",
   "name": "python3"
  },
  "language_info": {
   "codemirror_mode": {
    "name": "ipython",
    "version": 3
   },
   "file_extension": ".py",
   "mimetype": "text/x-python",
   "name": "python",
   "nbconvert_exporter": "python",
   "pygments_lexer": "ipython3",
   "version": "3.9.13"
  }
 },
 "nbformat": 4,
 "nbformat_minor": 2
}
